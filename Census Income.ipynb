{
 "cells": [
  {
   "cell_type": "code",
   "execution_count": 1,
   "id": "64a05f06",
   "metadata": {},
   "outputs": [],
   "source": [
    "import pandas as pd\n",
    "import numpy as np\n",
    "import matplotlib.pyplot as plt\n",
    "import seaborn as sns\n",
    "import warnings\n",
    "warnings.filterwarnings('ignore')"
   ]
  },
  {
   "cell_type": "code",
   "execution_count": 2,
   "id": "e39e31cf",
   "metadata": {},
   "outputs": [],
   "source": [
    "df=pd.read_csv(\"https://raw.githubusercontent.com/dsrscientist/dataset1/master/census_income.csv\")"
   ]
  },
  {
   "cell_type": "code",
   "execution_count": 3,
   "id": "39f3af05",
   "metadata": {},
   "outputs": [
    {
     "data": {
      "text/html": [
       "<div>\n",
       "<style scoped>\n",
       "    .dataframe tbody tr th:only-of-type {\n",
       "        vertical-align: middle;\n",
       "    }\n",
       "\n",
       "    .dataframe tbody tr th {\n",
       "        vertical-align: top;\n",
       "    }\n",
       "\n",
       "    .dataframe thead th {\n",
       "        text-align: right;\n",
       "    }\n",
       "</style>\n",
       "<table border=\"1\" class=\"dataframe\">\n",
       "  <thead>\n",
       "    <tr style=\"text-align: right;\">\n",
       "      <th></th>\n",
       "      <th>Age</th>\n",
       "      <th>Workclass</th>\n",
       "      <th>Fnlwgt</th>\n",
       "      <th>Education</th>\n",
       "      <th>Education_num</th>\n",
       "      <th>Marital_status</th>\n",
       "      <th>Occupation</th>\n",
       "      <th>Relationship</th>\n",
       "      <th>Race</th>\n",
       "      <th>Sex</th>\n",
       "      <th>Capital_gain</th>\n",
       "      <th>Capital_loss</th>\n",
       "      <th>Hours_per_week</th>\n",
       "      <th>Native_country</th>\n",
       "      <th>Income</th>\n",
       "    </tr>\n",
       "  </thead>\n",
       "  <tbody>\n",
       "    <tr>\n",
       "      <th>0</th>\n",
       "      <td>50</td>\n",
       "      <td>Self-emp-not-inc</td>\n",
       "      <td>83311</td>\n",
       "      <td>Bachelors</td>\n",
       "      <td>13</td>\n",
       "      <td>Married-civ-spouse</td>\n",
       "      <td>Exec-managerial</td>\n",
       "      <td>Husband</td>\n",
       "      <td>White</td>\n",
       "      <td>Male</td>\n",
       "      <td>0</td>\n",
       "      <td>0</td>\n",
       "      <td>13</td>\n",
       "      <td>United-States</td>\n",
       "      <td>&lt;=50K</td>\n",
       "    </tr>\n",
       "    <tr>\n",
       "      <th>1</th>\n",
       "      <td>38</td>\n",
       "      <td>Private</td>\n",
       "      <td>215646</td>\n",
       "      <td>HS-grad</td>\n",
       "      <td>9</td>\n",
       "      <td>Divorced</td>\n",
       "      <td>Handlers-cleaners</td>\n",
       "      <td>Not-in-family</td>\n",
       "      <td>White</td>\n",
       "      <td>Male</td>\n",
       "      <td>0</td>\n",
       "      <td>0</td>\n",
       "      <td>40</td>\n",
       "      <td>United-States</td>\n",
       "      <td>&lt;=50K</td>\n",
       "    </tr>\n",
       "    <tr>\n",
       "      <th>2</th>\n",
       "      <td>53</td>\n",
       "      <td>Private</td>\n",
       "      <td>234721</td>\n",
       "      <td>11th</td>\n",
       "      <td>7</td>\n",
       "      <td>Married-civ-spouse</td>\n",
       "      <td>Handlers-cleaners</td>\n",
       "      <td>Husband</td>\n",
       "      <td>Black</td>\n",
       "      <td>Male</td>\n",
       "      <td>0</td>\n",
       "      <td>0</td>\n",
       "      <td>40</td>\n",
       "      <td>United-States</td>\n",
       "      <td>&lt;=50K</td>\n",
       "    </tr>\n",
       "    <tr>\n",
       "      <th>3</th>\n",
       "      <td>28</td>\n",
       "      <td>Private</td>\n",
       "      <td>338409</td>\n",
       "      <td>Bachelors</td>\n",
       "      <td>13</td>\n",
       "      <td>Married-civ-spouse</td>\n",
       "      <td>Prof-specialty</td>\n",
       "      <td>Wife</td>\n",
       "      <td>Black</td>\n",
       "      <td>Female</td>\n",
       "      <td>0</td>\n",
       "      <td>0</td>\n",
       "      <td>40</td>\n",
       "      <td>Cuba</td>\n",
       "      <td>&lt;=50K</td>\n",
       "    </tr>\n",
       "    <tr>\n",
       "      <th>4</th>\n",
       "      <td>37</td>\n",
       "      <td>Private</td>\n",
       "      <td>284582</td>\n",
       "      <td>Masters</td>\n",
       "      <td>14</td>\n",
       "      <td>Married-civ-spouse</td>\n",
       "      <td>Exec-managerial</td>\n",
       "      <td>Wife</td>\n",
       "      <td>White</td>\n",
       "      <td>Female</td>\n",
       "      <td>0</td>\n",
       "      <td>0</td>\n",
       "      <td>40</td>\n",
       "      <td>United-States</td>\n",
       "      <td>&lt;=50K</td>\n",
       "    </tr>\n",
       "  </tbody>\n",
       "</table>\n",
       "</div>"
      ],
      "text/plain": [
       "   Age          Workclass  Fnlwgt   Education  Education_num  \\\n",
       "0   50   Self-emp-not-inc   83311   Bachelors             13   \n",
       "1   38            Private  215646     HS-grad              9   \n",
       "2   53            Private  234721        11th              7   \n",
       "3   28            Private  338409   Bachelors             13   \n",
       "4   37            Private  284582     Masters             14   \n",
       "\n",
       "        Marital_status          Occupation    Relationship    Race      Sex  \\\n",
       "0   Married-civ-spouse     Exec-managerial         Husband   White     Male   \n",
       "1             Divorced   Handlers-cleaners   Not-in-family   White     Male   \n",
       "2   Married-civ-spouse   Handlers-cleaners         Husband   Black     Male   \n",
       "3   Married-civ-spouse      Prof-specialty            Wife   Black   Female   \n",
       "4   Married-civ-spouse     Exec-managerial            Wife   White   Female   \n",
       "\n",
       "   Capital_gain  Capital_loss  Hours_per_week  Native_country  Income  \n",
       "0             0             0              13   United-States   <=50K  \n",
       "1             0             0              40   United-States   <=50K  \n",
       "2             0             0              40   United-States   <=50K  \n",
       "3             0             0              40            Cuba   <=50K  \n",
       "4             0             0              40   United-States   <=50K  "
      ]
     },
     "execution_count": 3,
     "metadata": {},
     "output_type": "execute_result"
    }
   ],
   "source": [
    "df.head()"
   ]
  },
  {
   "cell_type": "code",
   "execution_count": 4,
   "id": "13721fe6",
   "metadata": {},
   "outputs": [
    {
     "data": {
      "text/html": [
       "<div>\n",
       "<style scoped>\n",
       "    .dataframe tbody tr th:only-of-type {\n",
       "        vertical-align: middle;\n",
       "    }\n",
       "\n",
       "    .dataframe tbody tr th {\n",
       "        vertical-align: top;\n",
       "    }\n",
       "\n",
       "    .dataframe thead th {\n",
       "        text-align: right;\n",
       "    }\n",
       "</style>\n",
       "<table border=\"1\" class=\"dataframe\">\n",
       "  <thead>\n",
       "    <tr style=\"text-align: right;\">\n",
       "      <th></th>\n",
       "      <th>Age</th>\n",
       "      <th>Fnlwgt</th>\n",
       "      <th>Education_num</th>\n",
       "      <th>Capital_gain</th>\n",
       "      <th>Capital_loss</th>\n",
       "      <th>Hours_per_week</th>\n",
       "    </tr>\n",
       "  </thead>\n",
       "  <tbody>\n",
       "    <tr>\n",
       "      <th>count</th>\n",
       "      <td>32560.000000</td>\n",
       "      <td>3.256000e+04</td>\n",
       "      <td>32560.000000</td>\n",
       "      <td>32560.000000</td>\n",
       "      <td>32560.000000</td>\n",
       "      <td>32560.000000</td>\n",
       "    </tr>\n",
       "    <tr>\n",
       "      <th>mean</th>\n",
       "      <td>38.581634</td>\n",
       "      <td>1.897818e+05</td>\n",
       "      <td>10.080590</td>\n",
       "      <td>1077.615172</td>\n",
       "      <td>87.306511</td>\n",
       "      <td>40.437469</td>\n",
       "    </tr>\n",
       "    <tr>\n",
       "      <th>std</th>\n",
       "      <td>13.640642</td>\n",
       "      <td>1.055498e+05</td>\n",
       "      <td>2.572709</td>\n",
       "      <td>7385.402999</td>\n",
       "      <td>402.966116</td>\n",
       "      <td>12.347618</td>\n",
       "    </tr>\n",
       "    <tr>\n",
       "      <th>min</th>\n",
       "      <td>17.000000</td>\n",
       "      <td>1.228500e+04</td>\n",
       "      <td>1.000000</td>\n",
       "      <td>0.000000</td>\n",
       "      <td>0.000000</td>\n",
       "      <td>1.000000</td>\n",
       "    </tr>\n",
       "    <tr>\n",
       "      <th>25%</th>\n",
       "      <td>28.000000</td>\n",
       "      <td>1.178315e+05</td>\n",
       "      <td>9.000000</td>\n",
       "      <td>0.000000</td>\n",
       "      <td>0.000000</td>\n",
       "      <td>40.000000</td>\n",
       "    </tr>\n",
       "    <tr>\n",
       "      <th>50%</th>\n",
       "      <td>37.000000</td>\n",
       "      <td>1.783630e+05</td>\n",
       "      <td>10.000000</td>\n",
       "      <td>0.000000</td>\n",
       "      <td>0.000000</td>\n",
       "      <td>40.000000</td>\n",
       "    </tr>\n",
       "    <tr>\n",
       "      <th>75%</th>\n",
       "      <td>48.000000</td>\n",
       "      <td>2.370545e+05</td>\n",
       "      <td>12.000000</td>\n",
       "      <td>0.000000</td>\n",
       "      <td>0.000000</td>\n",
       "      <td>45.000000</td>\n",
       "    </tr>\n",
       "    <tr>\n",
       "      <th>max</th>\n",
       "      <td>90.000000</td>\n",
       "      <td>1.484705e+06</td>\n",
       "      <td>16.000000</td>\n",
       "      <td>99999.000000</td>\n",
       "      <td>4356.000000</td>\n",
       "      <td>99.000000</td>\n",
       "    </tr>\n",
       "  </tbody>\n",
       "</table>\n",
       "</div>"
      ],
      "text/plain": [
       "                Age        Fnlwgt  Education_num  Capital_gain  Capital_loss  \\\n",
       "count  32560.000000  3.256000e+04   32560.000000  32560.000000  32560.000000   \n",
       "mean      38.581634  1.897818e+05      10.080590   1077.615172     87.306511   \n",
       "std       13.640642  1.055498e+05       2.572709   7385.402999    402.966116   \n",
       "min       17.000000  1.228500e+04       1.000000      0.000000      0.000000   \n",
       "25%       28.000000  1.178315e+05       9.000000      0.000000      0.000000   \n",
       "50%       37.000000  1.783630e+05      10.000000      0.000000      0.000000   \n",
       "75%       48.000000  2.370545e+05      12.000000      0.000000      0.000000   \n",
       "max       90.000000  1.484705e+06      16.000000  99999.000000   4356.000000   \n",
       "\n",
       "       Hours_per_week  \n",
       "count    32560.000000  \n",
       "mean        40.437469  \n",
       "std         12.347618  \n",
       "min          1.000000  \n",
       "25%         40.000000  \n",
       "50%         40.000000  \n",
       "75%         45.000000  \n",
       "max         99.000000  "
      ]
     },
     "execution_count": 4,
     "metadata": {},
     "output_type": "execute_result"
    }
   ],
   "source": [
    "df.describe()"
   ]
  },
  {
   "cell_type": "markdown",
   "id": "dd8ce4ca",
   "metadata": {},
   "source": [
    "# 2.Checking basic details"
   ]
  },
  {
   "cell_type": "code",
   "execution_count": 5,
   "id": "0f435ae5",
   "metadata": {},
   "outputs": [
    {
     "data": {
      "text/plain": [
       " <=50K    24719\n",
       " >50K      7841\n",
       "Name: Income, dtype: int64"
      ]
     },
     "execution_count": 5,
     "metadata": {},
     "output_type": "execute_result"
    }
   ],
   "source": [
    "df['Income'].value_counts()"
   ]
  },
  {
   "cell_type": "code",
   "execution_count": 6,
   "id": "1e0329ce",
   "metadata": {},
   "outputs": [
    {
     "data": {
      "text/plain": [
       "Age                int64\n",
       "Workclass         object\n",
       "Fnlwgt             int64\n",
       "Education         object\n",
       "Education_num      int64\n",
       "Marital_status    object\n",
       "Occupation        object\n",
       "Relationship      object\n",
       "Race              object\n",
       "Sex               object\n",
       "Capital_gain       int64\n",
       "Capital_loss       int64\n",
       "Hours_per_week     int64\n",
       "Native_country    object\n",
       "Income            object\n",
       "dtype: object"
      ]
     },
     "execution_count": 6,
     "metadata": {},
     "output_type": "execute_result"
    }
   ],
   "source": [
    "df.dtypes"
   ]
  },
  {
   "cell_type": "code",
   "execution_count": 7,
   "id": "aa0d19f0",
   "metadata": {},
   "outputs": [
    {
     "name": "stdout",
     "output_type": "stream",
     "text": [
      "Age               0\n",
      "Workclass         0\n",
      "Fnlwgt            0\n",
      "Education         0\n",
      "Education_num     0\n",
      "Marital_status    0\n",
      "Occupation        0\n",
      "Relationship      0\n",
      "Race              0\n",
      "Sex               0\n",
      "Capital_gain      0\n",
      "Capital_loss      0\n",
      "Hours_per_week    0\n",
      "Native_country    0\n",
      "Income            0\n",
      "dtype: int64\n"
     ]
    }
   ],
   "source": [
    "print(df.isnull().sum())"
   ]
  },
  {
   "cell_type": "code",
   "execution_count": 8,
   "id": "d8968726",
   "metadata": {},
   "outputs": [
    {
     "name": "stdout",
     "output_type": "stream",
     "text": [
      "36    898\n",
      "31    888\n",
      "34    886\n",
      "23    877\n",
      "35    876\n",
      "     ... \n",
      "83      6\n",
      "85      3\n",
      "88      3\n",
      "86      1\n",
      "87      1\n",
      "Name: Age, Length: 73, dtype: int64\n",
      "-----------------------------------------\n",
      " Private             22696\n",
      " Self-emp-not-inc     2541\n",
      " Local-gov            2093\n",
      " ?                    1836\n",
      " State-gov            1297\n",
      " Self-emp-inc         1116\n",
      " Federal-gov           960\n",
      " Without-pay            14\n",
      " Never-worked            7\n",
      "Name: Workclass, dtype: int64\n",
      "-----------------------------------------\n",
      "203488    13\n",
      "123011    13\n",
      "164190    13\n",
      "121124    12\n",
      "148995    12\n",
      "          ..\n",
      "218551     1\n",
      "201204     1\n",
      "362999     1\n",
      "162297     1\n",
      "145522     1\n",
      "Name: Fnlwgt, Length: 21647, dtype: int64\n",
      "-----------------------------------------\n",
      " HS-grad         10501\n",
      " Some-college     7291\n",
      " Bachelors        5354\n",
      " Masters          1723\n",
      " Assoc-voc        1382\n",
      " 11th             1175\n",
      " Assoc-acdm       1067\n",
      " 10th              933\n",
      " 7th-8th           646\n",
      " Prof-school       576\n",
      " 9th               514\n",
      " 12th              433\n",
      " Doctorate         413\n",
      " 5th-6th           333\n",
      " 1st-4th           168\n",
      " Preschool          51\n",
      "Name: Education, dtype: int64\n",
      "-----------------------------------------\n",
      "9     10501\n",
      "10     7291\n",
      "13     5354\n",
      "14     1723\n",
      "11     1382\n",
      "7      1175\n",
      "12     1067\n",
      "6       933\n",
      "4       646\n",
      "15      576\n",
      "5       514\n",
      "8       433\n",
      "16      413\n",
      "3       333\n",
      "2       168\n",
      "1        51\n",
      "Name: Education_num, dtype: int64\n",
      "-----------------------------------------\n",
      " Married-civ-spouse       14976\n",
      " Never-married            10682\n",
      " Divorced                  4443\n",
      " Separated                 1025\n",
      " Widowed                    993\n",
      " Married-spouse-absent      418\n",
      " Married-AF-spouse           23\n",
      "Name: Marital_status, dtype: int64\n",
      "-----------------------------------------\n",
      " Prof-specialty       4140\n",
      " Craft-repair         4099\n",
      " Exec-managerial      4066\n",
      " Adm-clerical         3769\n",
      " Sales                3650\n",
      " Other-service        3295\n",
      " Machine-op-inspct    2002\n",
      " ?                    1843\n",
      " Transport-moving     1597\n",
      " Handlers-cleaners    1370\n",
      " Farming-fishing       994\n",
      " Tech-support          928\n",
      " Protective-serv       649\n",
      " Priv-house-serv       149\n",
      " Armed-Forces            9\n",
      "Name: Occupation, dtype: int64\n",
      "-----------------------------------------\n",
      " Husband           13193\n",
      " Not-in-family      8304\n",
      " Own-child          5068\n",
      " Unmarried          3446\n",
      " Wife               1568\n",
      " Other-relative      981\n",
      "Name: Relationship, dtype: int64\n",
      "-----------------------------------------\n",
      " White                 27815\n",
      " Black                  3124\n",
      " Asian-Pac-Islander     1039\n",
      " Amer-Indian-Eskimo      311\n",
      " Other                   271\n",
      "Name: Race, dtype: int64\n",
      "-----------------------------------------\n",
      " Male      21789\n",
      " Female    10771\n",
      "Name: Sex, dtype: int64\n",
      "-----------------------------------------\n",
      "0        29849\n",
      "15024      347\n",
      "7688       284\n",
      "7298       246\n",
      "99999      159\n",
      "         ...  \n",
      "1639         1\n",
      "5060         1\n",
      "6097         1\n",
      "1455         1\n",
      "7978         1\n",
      "Name: Capital_gain, Length: 119, dtype: int64\n",
      "-----------------------------------------\n",
      "0       31041\n",
      "1902      202\n",
      "1977      168\n",
      "1887      159\n",
      "1485       51\n",
      "        ...  \n",
      "2467        1\n",
      "1539        1\n",
      "155         1\n",
      "2282        1\n",
      "1411        1\n",
      "Name: Capital_loss, Length: 92, dtype: int64\n",
      "-----------------------------------------\n",
      "40    15216\n",
      "50     2819\n",
      "45     1824\n",
      "60     1475\n",
      "35     1297\n",
      "      ...  \n",
      "92        1\n",
      "74        1\n",
      "94        1\n",
      "82        1\n",
      "87        1\n",
      "Name: Hours_per_week, Length: 94, dtype: int64\n",
      "-----------------------------------------\n",
      " United-States                 29169\n",
      " Mexico                          643\n",
      " ?                               583\n",
      " Philippines                     198\n",
      " Germany                         137\n",
      " Canada                          121\n",
      " Puerto-Rico                     114\n",
      " El-Salvador                     106\n",
      " India                           100\n",
      " Cuba                             95\n",
      " England                          90\n",
      " Jamaica                          81\n",
      " South                            80\n",
      " China                            75\n",
      " Italy                            73\n",
      " Dominican-Republic               70\n",
      " Vietnam                          67\n",
      " Guatemala                        64\n",
      " Japan                            62\n",
      " Poland                           60\n",
      " Columbia                         59\n",
      " Taiwan                           51\n",
      " Haiti                            44\n",
      " Iran                             43\n",
      " Portugal                         37\n",
      " Nicaragua                        34\n",
      " Peru                             31\n",
      " France                           29\n",
      " Greece                           29\n",
      " Ecuador                          28\n",
      " Ireland                          24\n",
      " Hong                             20\n",
      " Trinadad&Tobago                  19\n",
      " Cambodia                         19\n",
      " Thailand                         18\n",
      " Laos                             18\n",
      " Yugoslavia                       16\n",
      " Outlying-US(Guam-USVI-etc)       14\n",
      " Hungary                          13\n",
      " Honduras                         13\n",
      " Scotland                         12\n",
      " Holand-Netherlands                1\n",
      "Name: Native_country, dtype: int64\n",
      "-----------------------------------------\n",
      " <=50K    24719\n",
      " >50K      7841\n",
      "Name: Income, dtype: int64\n",
      "-----------------------------------------\n"
     ]
    }
   ],
   "source": [
    "for i in df.columns:\n",
    "  print(df[i].value_counts())\n",
    "  print(\"-----------------------------------------\")"
   ]
  },
  {
   "cell_type": "markdown",
   "id": "9f36037f",
   "metadata": {},
   "source": [
    "There is no missing values present when we checked earlier but null values are present in the form of \"?\""
   ]
  },
  {
   "cell_type": "code",
   "execution_count": 9,
   "id": "cfe71839",
   "metadata": {},
   "outputs": [],
   "source": [
    "df= df.replace(' ?', np.nan)"
   ]
  },
  {
   "cell_type": "code",
   "execution_count": 10,
   "id": "44a003bf",
   "metadata": {},
   "outputs": [
    {
     "name": "stdout",
     "output_type": "stream",
     "text": [
      "Age                  0\n",
      "Workclass         1836\n",
      "Fnlwgt               0\n",
      "Education            0\n",
      "Education_num        0\n",
      "Marital_status       0\n",
      "Occupation        1843\n",
      "Relationship         0\n",
      "Race                 0\n",
      "Sex                  0\n",
      "Capital_gain         0\n",
      "Capital_loss         0\n",
      "Hours_per_week       0\n",
      "Native_country     583\n",
      "Income               0\n",
      "dtype: int64\n"
     ]
    }
   ],
   "source": [
    "print(df.isnull().sum())"
   ]
  },
  {
   "cell_type": "code",
   "execution_count": 11,
   "id": "3b13ad99",
   "metadata": {},
   "outputs": [],
   "source": [
    "df['Workclass'].fillna(df['Workclass'].mode()[0], inplace=True)\n",
    "df['Occupation'].fillna(df['Occupation'].mode()[0], inplace=True)\n",
    "df['Native_country'].fillna(df['Native_country'].mode()[0], inplace=True)"
   ]
  },
  {
   "cell_type": "code",
   "execution_count": 12,
   "id": "89285a41",
   "metadata": {},
   "outputs": [
    {
     "name": "stdout",
     "output_type": "stream",
     "text": [
      "Age               0\n",
      "Workclass         0\n",
      "Fnlwgt            0\n",
      "Education         0\n",
      "Education_num     0\n",
      "Marital_status    0\n",
      "Occupation        0\n",
      "Relationship      0\n",
      "Race              0\n",
      "Sex               0\n",
      "Capital_gain      0\n",
      "Capital_loss      0\n",
      "Hours_per_week    0\n",
      "Native_country    0\n",
      "Income            0\n",
      "dtype: int64\n"
     ]
    }
   ],
   "source": [
    "print(df.isnull().sum())"
   ]
  },
  {
   "cell_type": "markdown",
   "id": "907b1c34",
   "metadata": {},
   "source": [
    "# 3.EDA"
   ]
  },
  {
   "cell_type": "code",
   "execution_count": 13,
   "id": "46acc636",
   "metadata": {},
   "outputs": [
    {
     "data": {
      "text/plain": [
       "<AxesSubplot:xlabel='Age', ylabel='count'>"
      ]
     },
     "execution_count": 13,
     "metadata": {},
     "output_type": "execute_result"
    },
    {
     "data": {
      "image/png": "[encoded data removed]",
      "text/plain": [
       "<Figure size 1584x504 with 1 Axes>"
      ]
     },
     "metadata": {
      "needs_background": "light"
     },
     "output_type": "display_data"
    }
   ],
   "source": [
    "plt.figure(figsize=(22,7))\n",
    "sns.countplot(x='Age',hue='Income',data=df)"
   ]
  },
  {
   "cell_type": "markdown",
   "id": "572718f1",
   "metadata": {},
   "source": [
    "We can notice here in age of 17 to 30 most of people having less than 50k of income and after when in increasing age we see in category of more then 50k no of people are increasing"
   ]
  },
  {
   "cell_type": "code",
   "execution_count": 14,
   "id": "199e945e",
   "metadata": {},
   "outputs": [
    {
     "name": "stdout",
     "output_type": "stream",
     "text": [
      "<class 'pandas.core.frame.DataFrame'>\n",
      "RangeIndex: 32560 entries, 0 to 32559\n",
      "Data columns (total 15 columns):\n",
      " #   Column          Non-Null Count  Dtype \n",
      "---  ------          --------------  ----- \n",
      " 0   Age             32560 non-null  int64 \n",
      " 1   Workclass       32560 non-null  object\n",
      " 2   Fnlwgt          32560 non-null  int64 \n",
      " 3   Education       32560 non-null  object\n",
      " 4   Education_num   32560 non-null  int64 \n",
      " 5   Marital_status  32560 non-null  object\n",
      " 6   Occupation      32560 non-null  object\n",
      " 7   Relationship    32560 non-null  object\n",
      " 8   Race            32560 non-null  object\n",
      " 9   Sex             32560 non-null  object\n",
      " 10  Capital_gain    32560 non-null  int64 \n",
      " 11  Capital_loss    32560 non-null  int64 \n",
      " 12  Hours_per_week  32560 non-null  int64 \n",
      " 13  Native_country  32560 non-null  object\n",
      " 14  Income          32560 non-null  object\n",
      "dtypes: int64(6), object(9)\n",
      "memory usage: 3.7+ MB\n"
     ]
    }
   ],
   "source": [
    "df.info()"
   ]
  },
  {
   "cell_type": "code",
   "execution_count": 15,
   "id": "a35d67dd",
   "metadata": {},
   "outputs": [
    {
     "data": {
      "text/plain": [
       "(array([0, 1]), [Text(0, 0, ' <=50K'), Text(1, 0, ' >50K')])"
      ]
     },
     "execution_count": 15,
     "metadata": {},
     "output_type": "execute_result"
    },
    {
     "data": {
      "image/png": "[encoded data removed]",
      "text/plain": [
       "<Figure size 1080x504 with 1 Axes>"
      ]
     },
     "metadata": {
      "needs_background": "light"
     },
     "output_type": "display_data"
    }
   ],
   "source": [
    "plt.figure(figsize=(15,7))\n",
    "sns.countplot(x='Income',hue='Income',data=df)\n",
    "plt.xticks(rotation=90)"
   ]
  },
  {
   "cell_type": "code",
   "execution_count": 16,
   "id": "b3aebb0c",
   "metadata": {},
   "outputs": [
    {
     "data": {
      "text/plain": [
       "(array([ 0,  1,  2,  3,  4,  5,  6,  7,  8,  9, 10, 11, 12, 13, 14, 15, 16,\n",
       "        17, 18, 19, 20, 21, 22, 23, 24, 25, 26, 27, 28, 29, 30, 31, 32, 33,\n",
       "        34, 35, 36, 37, 38, 39, 40]),\n",
       " [Text(0, 0, ' United-States'),\n",
       "  Text(1, 0, ' Cuba'),\n",
       "  Text(2, 0, ' Jamaica'),\n",
       "  Text(3, 0, ' India'),\n",
       "  Text(4, 0, ' Mexico'),\n",
       "  Text(5, 0, ' South'),\n",
       "  Text(6, 0, ' Puerto-Rico'),\n",
       "  Text(7, 0, ' Honduras'),\n",
       "  Text(8, 0, ' England'),\n",
       "  Text(9, 0, ' Canada'),\n",
       "  Text(10, 0, ' Germany'),\n",
       "  Text(11, 0, ' Iran'),\n",
       "  Text(12, 0, ' Philippines'),\n",
       "  Text(13, 0, ' Italy'),\n",
       "  Text(14, 0, ' Poland'),\n",
       "  Text(15, 0, ' Columbia'),\n",
       "  Text(16, 0, ' Cambodia'),\n",
       "  Text(17, 0, ' Thailand'),\n",
       "  Text(18, 0, ' Ecuador'),\n",
       "  Text(19, 0, ' Laos'),\n",
       "  Text(20, 0, ' Taiwan'),\n",
       "  Text(21, 0, ' Haiti'),\n",
       "  Text(22, 0, ' Portugal'),\n",
       "  Text(23, 0, ' Dominican-Republic'),\n",
       "  Text(24, 0, ' El-Salvador'),\n",
       "  Text(25, 0, ' France'),\n",
       "  Text(26, 0, ' Guatemala'),\n",
       "  Text(27, 0, ' China'),\n",
       "  Text(28, 0, ' Japan'),\n",
       "  Text(29, 0, ' Yugoslavia'),\n",
       "  Text(30, 0, ' Peru'),\n",
       "  Text(31, 0, ' Outlying-US(Guam-USVI-etc)'),\n",
       "  Text(32, 0, ' Scotland'),\n",
       "  Text(33, 0, ' Trinadad&Tobago'),\n",
       "  Text(34, 0, ' Greece'),\n",
       "  Text(35, 0, ' Nicaragua'),\n",
       "  Text(36, 0, ' Vietnam'),\n",
       "  Text(37, 0, ' Hong'),\n",
       "  Text(38, 0, ' Ireland'),\n",
       "  Text(39, 0, ' Hungary'),\n",
       "  Text(40, 0, ' Holand-Netherlands')])"
      ]
     },
     "execution_count": 16,
     "metadata": {},
     "output_type": "execute_result"
    },
    {
     "data": {
      "image/png": "[encoded data removed]",
      "text/plain": [
       "<Figure size 1080x504 with 1 Axes>"
      ]
     },
     "metadata": {
      "needs_background": "light"
     },
     "output_type": "display_data"
    }
   ],
   "source": [
    "plt.figure(figsize=(15,7))\n",
    "sns.countplot(x='Native_country',hue='Income',data=df)\n",
    "plt.xticks(rotation=90)"
   ]
  },
  {
   "cell_type": "code",
   "execution_count": 17,
   "id": "5f0b69d8",
   "metadata": {},
   "outputs": [
    {
     "data": {
      "text/plain": [
       "(array([0, 1]), [Text(0, 0, ' Male'), Text(1, 0, ' Female')])"
      ]
     },
     "execution_count": 17,
     "metadata": {},
     "output_type": "execute_result"
    },
    {
     "data": {
      "image/png": "[encoded data removed]",
      "text/plain": [
       "<Figure size 1080x504 with 1 Axes>"
      ]
     },
     "metadata": {
      "needs_background": "light"
     },
     "output_type": "display_data"
    }
   ],
   "source": [
    "plt.figure(figsize=(15,7))\n",
    "sns.countplot(x='Sex',hue='Income',data=df)\n",
    "plt.xticks(rotation=90)"
   ]
  },
  {
   "cell_type": "code",
   "execution_count": 18,
   "id": "0fc53e3d",
   "metadata": {},
   "outputs": [
    {
     "data": {
      "text/plain": [
       "(array([0, 1, 2, 3, 4]),\n",
       " [Text(0, 0, ' White'),\n",
       "  Text(1, 0, ' Black'),\n",
       "  Text(2, 0, ' Asian-Pac-Islander'),\n",
       "  Text(3, 0, ' Amer-Indian-Eskimo'),\n",
       "  Text(4, 0, ' Other')])"
      ]
     },
     "execution_count": 18,
     "metadata": {},
     "output_type": "execute_result"
    },
    {
     "data": {
      "image/png": "[encoded data removed]",
      "text/plain": [
       "<Figure size 1080x504 with 1 Axes>"
      ]
     },
     "metadata": {
      "needs_background": "light"
     },
     "output_type": "display_data"
    }
   ],
   "source": [
    "plt.figure(figsize=(15,7))\n",
    "sns.countplot(x='Race',hue='Income',data=df)\n",
    "plt.xticks(rotation=90)"
   ]
  },
  {
   "cell_type": "code",
   "execution_count": 19,
   "id": "a33ac4e1",
   "metadata": {},
   "outputs": [
    {
     "data": {
      "text/plain": [
       "(array([0, 1, 2, 3, 4, 5]),\n",
       " [Text(0, 0, ' Husband'),\n",
       "  Text(1, 0, ' Not-in-family'),\n",
       "  Text(2, 0, ' Wife'),\n",
       "  Text(3, 0, ' Own-child'),\n",
       "  Text(4, 0, ' Unmarried'),\n",
       "  Text(5, 0, ' Other-relative')])"
      ]
     },
     "execution_count": 19,
     "metadata": {},
     "output_type": "execute_result"
    },
    {
     "data": {
      "image/png": "[encoded data removed]",
      "text/plain": [
       "<Figure size 1080x504 with 1 Axes>"
      ]
     },
     "metadata": {
      "needs_background": "light"
     },
     "output_type": "display_data"
    }
   ],
   "source": [
    "plt.figure(figsize=(15,7))\n",
    "sns.countplot(x='Relationship',hue='Income',data=df)\n",
    "plt.xticks(rotation=90)"
   ]
  },
  {
   "cell_type": "code",
   "execution_count": 20,
   "id": "7beb319a",
   "metadata": {},
   "outputs": [
    {
     "data": {
      "text/plain": [
       "(array([ 0,  1,  2,  3,  4,  5,  6,  7,  8,  9, 10, 11, 12, 13]),\n",
       " [Text(0, 0, ' Exec-managerial'),\n",
       "  Text(1, 0, ' Handlers-cleaners'),\n",
       "  Text(2, 0, ' Prof-specialty'),\n",
       "  Text(3, 0, ' Other-service'),\n",
       "  Text(4, 0, ' Adm-clerical'),\n",
       "  Text(5, 0, ' Sales'),\n",
       "  Text(6, 0, ' Craft-repair'),\n",
       "  Text(7, 0, ' Transport-moving'),\n",
       "  Text(8, 0, ' Farming-fishing'),\n",
       "  Text(9, 0, ' Machine-op-inspct'),\n",
       "  Text(10, 0, ' Tech-support'),\n",
       "  Text(11, 0, ' Protective-serv'),\n",
       "  Text(12, 0, ' Armed-Forces'),\n",
       "  Text(13, 0, ' Priv-house-serv')])"
      ]
     },
     "execution_count": 20,
     "metadata": {},
     "output_type": "execute_result"
    },
    {
     "data": {
      "image/png": "[encoded data removed]",
      "text/plain": [
       "<Figure size 1080x504 with 1 Axes>"
      ]
     },
     "metadata": {
      "needs_background": "light"
     },
     "output_type": "display_data"
    }
   ],
   "source": [
    "plt.figure(figsize=(15,7))\n",
    "sns.countplot(x='Occupation',hue='Income',data=df)\n",
    "plt.xticks(rotation=90)"
   ]
  },
  {
   "cell_type": "code",
   "execution_count": 21,
   "id": "4e90080b",
   "metadata": {},
   "outputs": [
    {
     "data": {
      "text/plain": [
       "(array([0, 1, 2, 3, 4, 5, 6]),\n",
       " [Text(0, 0, ' Married-civ-spouse'),\n",
       "  Text(1, 0, ' Divorced'),\n",
       "  Text(2, 0, ' Married-spouse-absent'),\n",
       "  Text(3, 0, ' Never-married'),\n",
       "  Text(4, 0, ' Separated'),\n",
       "  Text(5, 0, ' Married-AF-spouse'),\n",
       "  Text(6, 0, ' Widowed')])"
      ]
     },
     "execution_count": 21,
     "metadata": {},
     "output_type": "execute_result"
    },
    {
     "data": {
      "image/png": "[encoded data removed]",
      "text/plain": [
       "<Figure size 1080x504 with 1 Axes>"
      ]
     },
     "metadata": {
      "needs_background": "light"
     },
     "output_type": "display_data"
    }
   ],
   "source": [
    "plt.figure(figsize=(15,7))\n",
    "sns.countplot(x='Marital_status',hue='Income',data=df)\n",
    "plt.xticks(rotation=90)"
   ]
  },
  {
   "cell_type": "code",
   "execution_count": 22,
   "id": "7a6238a7",
   "metadata": {},
   "outputs": [
    {
     "data": {
      "text/plain": [
       "(array([ 0,  1,  2,  3,  4,  5,  6,  7,  8,  9, 10, 11, 12, 13, 14, 15]),\n",
       " [Text(0, 0, ' Bachelors'),\n",
       "  Text(1, 0, ' HS-grad'),\n",
       "  Text(2, 0, ' 11th'),\n",
       "  Text(3, 0, ' Masters'),\n",
       "  Text(4, 0, ' 9th'),\n",
       "  Text(5, 0, ' Some-college'),\n",
       "  Text(6, 0, ' Assoc-acdm'),\n",
       "  Text(7, 0, ' Assoc-voc'),\n",
       "  Text(8, 0, ' 7th-8th'),\n",
       "  Text(9, 0, ' Doctorate'),\n",
       "  Text(10, 0, ' Prof-school'),\n",
       "  Text(11, 0, ' 5th-6th'),\n",
       "  Text(12, 0, ' 10th'),\n",
       "  Text(13, 0, ' 1st-4th'),\n",
       "  Text(14, 0, ' Preschool'),\n",
       "  Text(15, 0, ' 12th')])"
      ]
     },
     "execution_count": 22,
     "metadata": {},
     "output_type": "execute_result"
    },
    {
     "data": {
      "image/png": "[encoded data removed]",
      "text/plain": [
       "<Figure size 1080x504 with 1 Axes>"
      ]
     },
     "metadata": {
      "needs_background": "light"
     },
     "output_type": "display_data"
    }
   ],
   "source": [
    "plt.figure(figsize=(15,7))\n",
    "sns.countplot(x='Education',hue='Income',data=df)\n",
    "plt.xticks(rotation=90)"
   ]
  },
  {
   "cell_type": "code",
   "execution_count": 23,
   "id": "fc2029b9",
   "metadata": {},
   "outputs": [
    {
     "data": {
      "text/plain": [
       "<AxesSubplot:xlabel='Workclass', ylabel='count'>"
      ]
     },
     "execution_count": 23,
     "metadata": {},
     "output_type": "execute_result"
    },
    {
     "data": {
      "image/png": "[encoded data removed]",
      "text/plain": [
       "<Figure size 1080x504 with 1 Axes>"
      ]
     },
     "metadata": {
      "needs_background": "light"
     },
     "output_type": "display_data"
    }
   ],
   "source": [
    "plt.figure(figsize=(15,7))\n",
    "sns.countplot(x='Workclass',hue='Income',data=df)"
   ]
  },
  {
   "cell_type": "code",
   "execution_count": 24,
   "id": "56a871d5",
   "metadata": {},
   "outputs": [
    {
     "data": {
      "text/plain": [
       "<AxesSubplot:xlabel='Relationship', ylabel='count'>"
      ]
     },
     "execution_count": 24,
     "metadata": {},
     "output_type": "execute_result"
    },
    {
     "data": {
      "image/png": "[encoded data removed]",
      "text/plain": [
       "<Figure size 1080x504 with 1 Axes>"
      ]
     },
     "metadata": {
      "needs_background": "light"
     },
     "output_type": "display_data"
    }
   ],
   "source": [
    "plt.figure(figsize=(15,7))\n",
    "sns.countplot(x='Relationship',hue='Income',data=df)"
   ]
  },
  {
   "cell_type": "markdown",
   "id": "d4e7f527",
   "metadata": {},
   "source": [
    "# 4. Data pre-processing"
   ]
  },
  {
   "cell_type": "markdown",
   "id": "dfb8cb97",
   "metadata": {},
   "source": [
    "Encoding"
   ]
  },
  {
   "cell_type": "code",
   "execution_count": 25,
   "id": "935a7238",
   "metadata": {},
   "outputs": [],
   "source": [
    "categ_columns=['Workclass','Education','Marital_status','Occupation','Ralationship','Race','Sex','Native_country','Income']"
   ]
  },
  {
   "cell_type": "code",
   "execution_count": 26,
   "id": "8f0a8343",
   "metadata": {},
   "outputs": [],
   "source": [
    "from sklearn.preprocessing import LabelEncoder\n",
    "for col in df.columns:\n",
    "    if df[col].dtypes == 'object':\n",
    "        encoder = LabelEncoder()\n",
    "        df[col] = encoder.fit_transform(df[col])"
   ]
  },
  {
   "cell_type": "code",
   "execution_count": 27,
   "id": "f90142ef",
   "metadata": {},
   "outputs": [
    {
     "name": "stdout",
     "output_type": "stream",
     "text": [
      "<class 'pandas.core.frame.DataFrame'>\n",
      "RangeIndex: 32560 entries, 0 to 32559\n",
      "Data columns (total 15 columns):\n",
      " #   Column          Non-Null Count  Dtype\n",
      "---  ------          --------------  -----\n",
      " 0   Age             32560 non-null  int64\n",
      " 1   Workclass       32560 non-null  int32\n",
      " 2   Fnlwgt          32560 non-null  int64\n",
      " 3   Education       32560 non-null  int32\n",
      " 4   Education_num   32560 non-null  int64\n",
      " 5   Marital_status  32560 non-null  int32\n",
      " 6   Occupation      32560 non-null  int32\n",
      " 7   Relationship    32560 non-null  int32\n",
      " 8   Race            32560 non-null  int32\n",
      " 9   Sex             32560 non-null  int32\n",
      " 10  Capital_gain    32560 non-null  int64\n",
      " 11  Capital_loss    32560 non-null  int64\n",
      " 12  Hours_per_week  32560 non-null  int64\n",
      " 13  Native_country  32560 non-null  int32\n",
      " 14  Income          32560 non-null  int32\n",
      "dtypes: int32(9), int64(6)\n",
      "memory usage: 2.6 MB\n"
     ]
    }
   ],
   "source": [
    "df.info()"
   ]
  },
  {
   "cell_type": "code",
   "execution_count": 28,
   "id": "70e2d6fb",
   "metadata": {},
   "outputs": [
    {
     "data": {
      "text/html": [
       "<div>\n",
       "<style scoped>\n",
       "    .dataframe tbody tr th:only-of-type {\n",
       "        vertical-align: middle;\n",
       "    }\n",
       "\n",
       "    .dataframe tbody tr th {\n",
       "        vertical-align: top;\n",
       "    }\n",
       "\n",
       "    .dataframe thead th {\n",
       "        text-align: right;\n",
       "    }\n",
       "</style>\n",
       "<table border=\"1\" class=\"dataframe\">\n",
       "  <thead>\n",
       "    <tr style=\"text-align: right;\">\n",
       "      <th></th>\n",
       "      <th>Age</th>\n",
       "      <th>Workclass</th>\n",
       "      <th>Fnlwgt</th>\n",
       "      <th>Education</th>\n",
       "      <th>Education_num</th>\n",
       "      <th>Marital_status</th>\n",
       "      <th>Occupation</th>\n",
       "      <th>Relationship</th>\n",
       "      <th>Race</th>\n",
       "      <th>Sex</th>\n",
       "      <th>Capital_gain</th>\n",
       "      <th>Capital_loss</th>\n",
       "      <th>Hours_per_week</th>\n",
       "      <th>Native_country</th>\n",
       "      <th>Income</th>\n",
       "    </tr>\n",
       "  </thead>\n",
       "  <tbody>\n",
       "    <tr>\n",
       "      <th>0</th>\n",
       "      <td>50</td>\n",
       "      <td>5</td>\n",
       "      <td>83311</td>\n",
       "      <td>9</td>\n",
       "      <td>13</td>\n",
       "      <td>2</td>\n",
       "      <td>3</td>\n",
       "      <td>0</td>\n",
       "      <td>4</td>\n",
       "      <td>1</td>\n",
       "      <td>0</td>\n",
       "      <td>0</td>\n",
       "      <td>13</td>\n",
       "      <td>38</td>\n",
       "      <td>0</td>\n",
       "    </tr>\n",
       "    <tr>\n",
       "      <th>1</th>\n",
       "      <td>38</td>\n",
       "      <td>3</td>\n",
       "      <td>215646</td>\n",
       "      <td>11</td>\n",
       "      <td>9</td>\n",
       "      <td>0</td>\n",
       "      <td>5</td>\n",
       "      <td>1</td>\n",
       "      <td>4</td>\n",
       "      <td>1</td>\n",
       "      <td>0</td>\n",
       "      <td>0</td>\n",
       "      <td>40</td>\n",
       "      <td>38</td>\n",
       "      <td>0</td>\n",
       "    </tr>\n",
       "    <tr>\n",
       "      <th>2</th>\n",
       "      <td>53</td>\n",
       "      <td>3</td>\n",
       "      <td>234721</td>\n",
       "      <td>1</td>\n",
       "      <td>7</td>\n",
       "      <td>2</td>\n",
       "      <td>5</td>\n",
       "      <td>0</td>\n",
       "      <td>2</td>\n",
       "      <td>1</td>\n",
       "      <td>0</td>\n",
       "      <td>0</td>\n",
       "      <td>40</td>\n",
       "      <td>38</td>\n",
       "      <td>0</td>\n",
       "    </tr>\n",
       "    <tr>\n",
       "      <th>3</th>\n",
       "      <td>28</td>\n",
       "      <td>3</td>\n",
       "      <td>338409</td>\n",
       "      <td>9</td>\n",
       "      <td>13</td>\n",
       "      <td>2</td>\n",
       "      <td>9</td>\n",
       "      <td>5</td>\n",
       "      <td>2</td>\n",
       "      <td>0</td>\n",
       "      <td>0</td>\n",
       "      <td>0</td>\n",
       "      <td>40</td>\n",
       "      <td>4</td>\n",
       "      <td>0</td>\n",
       "    </tr>\n",
       "    <tr>\n",
       "      <th>4</th>\n",
       "      <td>37</td>\n",
       "      <td>3</td>\n",
       "      <td>284582</td>\n",
       "      <td>12</td>\n",
       "      <td>14</td>\n",
       "      <td>2</td>\n",
       "      <td>3</td>\n",
       "      <td>5</td>\n",
       "      <td>4</td>\n",
       "      <td>0</td>\n",
       "      <td>0</td>\n",
       "      <td>0</td>\n",
       "      <td>40</td>\n",
       "      <td>38</td>\n",
       "      <td>0</td>\n",
       "    </tr>\n",
       "  </tbody>\n",
       "</table>\n",
       "</div>"
      ],
      "text/plain": [
       "   Age  Workclass  Fnlwgt  Education  Education_num  Marital_status  \\\n",
       "0   50          5   83311          9             13               2   \n",
       "1   38          3  215646         11              9               0   \n",
       "2   53          3  234721          1              7               2   \n",
       "3   28          3  338409          9             13               2   \n",
       "4   37          3  284582         12             14               2   \n",
       "\n",
       "   Occupation  Relationship  Race  Sex  Capital_gain  Capital_loss  \\\n",
       "0           3             0     4    1             0             0   \n",
       "1           5             1     4    1             0             0   \n",
       "2           5             0     2    1             0             0   \n",
       "3           9             5     2    0             0             0   \n",
       "4           3             5     4    0             0             0   \n",
       "\n",
       "   Hours_per_week  Native_country  Income  \n",
       "0              13              38       0  \n",
       "1              40              38       0  \n",
       "2              40              38       0  \n",
       "3              40               4       0  \n",
       "4              40              38       0  "
      ]
     },
     "execution_count": 28,
     "metadata": {},
     "output_type": "execute_result"
    }
   ],
   "source": [
    "df.head()"
   ]
  },
  {
   "cell_type": "code",
   "execution_count": 29,
   "id": "1f31e15e",
   "metadata": {},
   "outputs": [
    {
     "data": {
      "image/png": "[encoded data removed]",
      "text/plain": [
       "<Figure size 1800x1440 with 15 Axes>"
      ]
     },
     "metadata": {
      "needs_background": "light"
     },
     "output_type": "display_data"
    }
   ],
   "source": [
    "plt.figure(figsize=(25,20))\n",
    "for i in enumerate(df.columns):\n",
    "    plt.subplot(8,4,i[0]+1)\n",
    "    sns.distplot(df[i[1]])"
   ]
  },
  {
   "cell_type": "code",
   "execution_count": 30,
   "id": "8b4ec38b",
   "metadata": {},
   "outputs": [
    {
     "data": {
      "text/html": [
       "<div>\n",
       "<style scoped>\n",
       "    .dataframe tbody tr th:only-of-type {\n",
       "        vertical-align: middle;\n",
       "    }\n",
       "\n",
       "    .dataframe tbody tr th {\n",
       "        vertical-align: top;\n",
       "    }\n",
       "\n",
       "    .dataframe thead th {\n",
       "        text-align: right;\n",
       "    }\n",
       "</style>\n",
       "<table border=\"1\" class=\"dataframe\">\n",
       "  <thead>\n",
       "    <tr style=\"text-align: right;\">\n",
       "      <th></th>\n",
       "      <th>Age</th>\n",
       "      <th>Workclass</th>\n",
       "      <th>Fnlwgt</th>\n",
       "      <th>Education</th>\n",
       "      <th>Education_num</th>\n",
       "      <th>Marital_status</th>\n",
       "      <th>Occupation</th>\n",
       "      <th>Relationship</th>\n",
       "      <th>Race</th>\n",
       "      <th>Sex</th>\n",
       "      <th>Capital_gain</th>\n",
       "      <th>Capital_loss</th>\n",
       "      <th>Hours_per_week</th>\n",
       "      <th>Native_country</th>\n",
       "      <th>Income</th>\n",
       "    </tr>\n",
       "  </thead>\n",
       "  <tbody>\n",
       "    <tr>\n",
       "      <th>Age</th>\n",
       "      <td>1.000000</td>\n",
       "      <td>0.040506</td>\n",
       "      <td>-0.076646</td>\n",
       "      <td>-0.010508</td>\n",
       "      <td>0.036527</td>\n",
       "      <td>-0.266292</td>\n",
       "      <td>0.001740</td>\n",
       "      <td>-0.263698</td>\n",
       "      <td>0.028718</td>\n",
       "      <td>0.088832</td>\n",
       "      <td>0.077674</td>\n",
       "      <td>0.057775</td>\n",
       "      <td>0.068756</td>\n",
       "      <td>-0.000271</td>\n",
       "      <td>0.234039</td>\n",
       "    </tr>\n",
       "    <tr>\n",
       "      <th>Workclass</th>\n",
       "      <td>0.040506</td>\n",
       "      <td>1.000000</td>\n",
       "      <td>-0.024255</td>\n",
       "      <td>0.004901</td>\n",
       "      <td>0.003445</td>\n",
       "      <td>-0.020545</td>\n",
       "      <td>0.007236</td>\n",
       "      <td>-0.057931</td>\n",
       "      <td>0.048323</td>\n",
       "      <td>0.071535</td>\n",
       "      <td>0.031496</td>\n",
       "      <td>0.002662</td>\n",
       "      <td>0.042206</td>\n",
       "      <td>-0.001646</td>\n",
       "      <td>0.002739</td>\n",
       "    </tr>\n",
       "    <tr>\n",
       "      <th>Fnlwgt</th>\n",
       "      <td>-0.076646</td>\n",
       "      <td>-0.024255</td>\n",
       "      <td>1.000000</td>\n",
       "      <td>-0.028156</td>\n",
       "      <td>-0.043159</td>\n",
       "      <td>0.028184</td>\n",
       "      <td>0.000138</td>\n",
       "      <td>0.008922</td>\n",
       "      <td>-0.021278</td>\n",
       "      <td>0.026882</td>\n",
       "      <td>0.000437</td>\n",
       "      <td>-0.010259</td>\n",
       "      <td>-0.018770</td>\n",
       "      <td>-0.063279</td>\n",
       "      <td>-0.009481</td>\n",
       "    </tr>\n",
       "    <tr>\n",
       "      <th>Education</th>\n",
       "      <td>-0.010508</td>\n",
       "      <td>0.004901</td>\n",
       "      <td>-0.028156</td>\n",
       "      <td>1.000000</td>\n",
       "      <td>0.359172</td>\n",
       "      <td>-0.038398</td>\n",
       "      <td>-0.041297</td>\n",
       "      <td>-0.010879</td>\n",
       "      <td>0.014135</td>\n",
       "      <td>-0.027349</td>\n",
       "      <td>0.030047</td>\n",
       "      <td>0.016744</td>\n",
       "      <td>0.055510</td>\n",
       "      <td>0.076062</td>\n",
       "      <td>0.079311</td>\n",
       "    </tr>\n",
       "    <tr>\n",
       "      <th>Education_num</th>\n",
       "      <td>0.036527</td>\n",
       "      <td>0.003445</td>\n",
       "      <td>-0.043159</td>\n",
       "      <td>0.359172</td>\n",
       "      <td>1.000000</td>\n",
       "      <td>-0.069338</td>\n",
       "      <td>0.071012</td>\n",
       "      <td>-0.094145</td>\n",
       "      <td>0.031825</td>\n",
       "      <td>0.012256</td>\n",
       "      <td>0.122627</td>\n",
       "      <td>0.079932</td>\n",
       "      <td>0.148127</td>\n",
       "      <td>0.088887</td>\n",
       "      <td>0.335182</td>\n",
       "    </tr>\n",
       "    <tr>\n",
       "      <th>Marital_status</th>\n",
       "      <td>-0.266292</td>\n",
       "      <td>-0.020545</td>\n",
       "      <td>0.028184</td>\n",
       "      <td>-0.038398</td>\n",
       "      <td>-0.069338</td>\n",
       "      <td>1.000000</td>\n",
       "      <td>0.035008</td>\n",
       "      <td>0.185461</td>\n",
       "      <td>-0.068025</td>\n",
       "      <td>-0.129337</td>\n",
       "      <td>-0.043398</td>\n",
       "      <td>-0.034182</td>\n",
       "      <td>-0.190521</td>\n",
       "      <td>-0.021285</td>\n",
       "      <td>-0.199295</td>\n",
       "    </tr>\n",
       "    <tr>\n",
       "      <th>Occupation</th>\n",
       "      <td>0.001740</td>\n",
       "      <td>0.007236</td>\n",
       "      <td>0.000138</td>\n",
       "      <td>-0.041297</td>\n",
       "      <td>0.071012</td>\n",
       "      <td>0.035008</td>\n",
       "      <td>1.000000</td>\n",
       "      <td>-0.037465</td>\n",
       "      <td>-0.004821</td>\n",
       "      <td>0.047497</td>\n",
       "      <td>0.018028</td>\n",
       "      <td>0.009670</td>\n",
       "      <td>-0.012881</td>\n",
       "      <td>-0.002205</td>\n",
       "      <td>0.034599</td>\n",
       "    </tr>\n",
       "    <tr>\n",
       "      <th>Relationship</th>\n",
       "      <td>-0.263698</td>\n",
       "      <td>-0.057931</td>\n",
       "      <td>0.008922</td>\n",
       "      <td>-0.010879</td>\n",
       "      <td>-0.094145</td>\n",
       "      <td>0.185461</td>\n",
       "      <td>-0.037465</td>\n",
       "      <td>1.000000</td>\n",
       "      <td>-0.116052</td>\n",
       "      <td>-0.582453</td>\n",
       "      <td>-0.057918</td>\n",
       "      <td>-0.061064</td>\n",
       "      <td>-0.248975</td>\n",
       "      <td>-0.010710</td>\n",
       "      <td>-0.250924</td>\n",
       "    </tr>\n",
       "    <tr>\n",
       "      <th>Race</th>\n",
       "      <td>0.028718</td>\n",
       "      <td>0.048323</td>\n",
       "      <td>-0.021278</td>\n",
       "      <td>0.014135</td>\n",
       "      <td>0.031825</td>\n",
       "      <td>-0.068025</td>\n",
       "      <td>-0.004821</td>\n",
       "      <td>-0.116052</td>\n",
       "      <td>1.000000</td>\n",
       "      <td>0.087197</td>\n",
       "      <td>0.011143</td>\n",
       "      <td>0.018902</td>\n",
       "      <td>0.041910</td>\n",
       "      <td>0.116526</td>\n",
       "      <td>0.071853</td>\n",
       "    </tr>\n",
       "    <tr>\n",
       "      <th>Sex</th>\n",
       "      <td>0.088832</td>\n",
       "      <td>0.071535</td>\n",
       "      <td>0.026882</td>\n",
       "      <td>-0.027349</td>\n",
       "      <td>0.012256</td>\n",
       "      <td>-0.129337</td>\n",
       "      <td>0.047497</td>\n",
       "      <td>-0.582453</td>\n",
       "      <td>0.087197</td>\n",
       "      <td>1.000000</td>\n",
       "      <td>0.048477</td>\n",
       "      <td>0.045572</td>\n",
       "      <td>0.229312</td>\n",
       "      <td>0.002055</td>\n",
       "      <td>0.215995</td>\n",
       "    </tr>\n",
       "    <tr>\n",
       "      <th>Capital_gain</th>\n",
       "      <td>0.077674</td>\n",
       "      <td>0.031496</td>\n",
       "      <td>0.000437</td>\n",
       "      <td>0.030047</td>\n",
       "      <td>0.122627</td>\n",
       "      <td>-0.043398</td>\n",
       "      <td>0.018028</td>\n",
       "      <td>-0.057918</td>\n",
       "      <td>0.011143</td>\n",
       "      <td>0.048477</td>\n",
       "      <td>1.000000</td>\n",
       "      <td>-0.031614</td>\n",
       "      <td>0.078409</td>\n",
       "      <td>0.008818</td>\n",
       "      <td>0.223333</td>\n",
       "    </tr>\n",
       "    <tr>\n",
       "      <th>Capital_loss</th>\n",
       "      <td>0.057775</td>\n",
       "      <td>0.002662</td>\n",
       "      <td>-0.010259</td>\n",
       "      <td>0.016744</td>\n",
       "      <td>0.079932</td>\n",
       "      <td>-0.034182</td>\n",
       "      <td>0.009670</td>\n",
       "      <td>-0.061064</td>\n",
       "      <td>0.018902</td>\n",
       "      <td>0.045572</td>\n",
       "      <td>-0.031614</td>\n",
       "      <td>1.000000</td>\n",
       "      <td>0.054256</td>\n",
       "      <td>0.009402</td>\n",
       "      <td>0.150523</td>\n",
       "    </tr>\n",
       "    <tr>\n",
       "      <th>Hours_per_week</th>\n",
       "      <td>0.068756</td>\n",
       "      <td>0.042206</td>\n",
       "      <td>-0.018770</td>\n",
       "      <td>0.055510</td>\n",
       "      <td>0.148127</td>\n",
       "      <td>-0.190521</td>\n",
       "      <td>-0.012881</td>\n",
       "      <td>-0.248975</td>\n",
       "      <td>0.041910</td>\n",
       "      <td>0.229312</td>\n",
       "      <td>0.078409</td>\n",
       "      <td>0.054256</td>\n",
       "      <td>1.000000</td>\n",
       "      <td>0.006592</td>\n",
       "      <td>0.229690</td>\n",
       "    </tr>\n",
       "    <tr>\n",
       "      <th>Native_country</th>\n",
       "      <td>-0.000271</td>\n",
       "      <td>-0.001646</td>\n",
       "      <td>-0.063279</td>\n",
       "      <td>0.076062</td>\n",
       "      <td>0.088887</td>\n",
       "      <td>-0.021285</td>\n",
       "      <td>-0.002205</td>\n",
       "      <td>-0.010710</td>\n",
       "      <td>0.116526</td>\n",
       "      <td>0.002055</td>\n",
       "      <td>0.008818</td>\n",
       "      <td>0.009402</td>\n",
       "      <td>0.006592</td>\n",
       "      <td>1.000000</td>\n",
       "      <td>0.023063</td>\n",
       "    </tr>\n",
       "    <tr>\n",
       "      <th>Income</th>\n",
       "      <td>0.234039</td>\n",
       "      <td>0.002739</td>\n",
       "      <td>-0.009481</td>\n",
       "      <td>0.079311</td>\n",
       "      <td>0.335182</td>\n",
       "      <td>-0.199295</td>\n",
       "      <td>0.034599</td>\n",
       "      <td>-0.250924</td>\n",
       "      <td>0.071853</td>\n",
       "      <td>0.215995</td>\n",
       "      <td>0.223333</td>\n",
       "      <td>0.150523</td>\n",
       "      <td>0.229690</td>\n",
       "      <td>0.023063</td>\n",
       "      <td>1.000000</td>\n",
       "    </tr>\n",
       "  </tbody>\n",
       "</table>\n",
       "</div>"
      ],
      "text/plain": [
       "                     Age  Workclass    Fnlwgt  Education  Education_num  \\\n",
       "Age             1.000000   0.040506 -0.076646  -0.010508       0.036527   \n",
       "Workclass       0.040506   1.000000 -0.024255   0.004901       0.003445   \n",
       "Fnlwgt         -0.076646  -0.024255  1.000000  -0.028156      -0.043159   \n",
       "Education      -0.010508   0.004901 -0.028156   1.000000       0.359172   \n",
       "Education_num   0.036527   0.003445 -0.043159   0.359172       1.000000   \n",
       "Marital_status -0.266292  -0.020545  0.028184  -0.038398      -0.069338   \n",
       "Occupation      0.001740   0.007236  0.000138  -0.041297       0.071012   \n",
       "Relationship   -0.263698  -0.057931  0.008922  -0.010879      -0.094145   \n",
       "Race            0.028718   0.048323 -0.021278   0.014135       0.031825   \n",
       "Sex             0.088832   0.071535  0.026882  -0.027349       0.012256   \n",
       "Capital_gain    0.077674   0.031496  0.000437   0.030047       0.122627   \n",
       "Capital_loss    0.057775   0.002662 -0.010259   0.016744       0.079932   \n",
       "Hours_per_week  0.068756   0.042206 -0.018770   0.055510       0.148127   \n",
       "Native_country -0.000271  -0.001646 -0.063279   0.076062       0.088887   \n",
       "Income          0.234039   0.002739 -0.009481   0.079311       0.335182   \n",
       "\n",
       "                Marital_status  Occupation  Relationship      Race       Sex  \\\n",
       "Age                  -0.266292    0.001740     -0.263698  0.028718  0.088832   \n",
       "Workclass            -0.020545    0.007236     -0.057931  0.048323  0.071535   \n",
       "Fnlwgt                0.028184    0.000138      0.008922 -0.021278  0.026882   \n",
       "Education            -0.038398   -0.041297     -0.010879  0.014135 -0.027349   \n",
       "Education_num        -0.069338    0.071012     -0.094145  0.031825  0.012256   \n",
       "Marital_status        1.000000    0.035008      0.185461 -0.068025 -0.129337   \n",
       "Occupation            0.035008    1.000000     -0.037465 -0.004821  0.047497   \n",
       "Relationship          0.185461   -0.037465      1.000000 -0.116052 -0.582453   \n",
       "Race                 -0.068025   -0.004821     -0.116052  1.000000  0.087197   \n",
       "Sex                  -0.129337    0.047497     -0.582453  0.087197  1.000000   \n",
       "Capital_gain         -0.043398    0.018028     -0.057918  0.011143  0.048477   \n",
       "Capital_loss         -0.034182    0.009670     -0.061064  0.018902  0.045572   \n",
       "Hours_per_week       -0.190521   -0.012881     -0.248975  0.041910  0.229312   \n",
       "Native_country       -0.021285   -0.002205     -0.010710  0.116526  0.002055   \n",
       "Income               -0.199295    0.034599     -0.250924  0.071853  0.215995   \n",
       "\n",
       "                Capital_gain  Capital_loss  Hours_per_week  Native_country  \\\n",
       "Age                 0.077674      0.057775        0.068756       -0.000271   \n",
       "Workclass           0.031496      0.002662        0.042206       -0.001646   \n",
       "Fnlwgt              0.000437     -0.010259       -0.018770       -0.063279   \n",
       "Education           0.030047      0.016744        0.055510        0.076062   \n",
       "Education_num       0.122627      0.079932        0.148127        0.088887   \n",
       "Marital_status     -0.043398     -0.034182       -0.190521       -0.021285   \n",
       "Occupation          0.018028      0.009670       -0.012881       -0.002205   \n",
       "Relationship       -0.057918     -0.061064       -0.248975       -0.010710   \n",
       "Race                0.011143      0.018902        0.041910        0.116526   \n",
       "Sex                 0.048477      0.045572        0.229312        0.002055   \n",
       "Capital_gain        1.000000     -0.031614        0.078409        0.008818   \n",
       "Capital_loss       -0.031614      1.000000        0.054256        0.009402   \n",
       "Hours_per_week      0.078409      0.054256        1.000000        0.006592   \n",
       "Native_country      0.008818      0.009402        0.006592        1.000000   \n",
       "Income              0.223333      0.150523        0.229690        0.023063   \n",
       "\n",
       "                  Income  \n",
       "Age             0.234039  \n",
       "Workclass       0.002739  \n",
       "Fnlwgt         -0.009481  \n",
       "Education       0.079311  \n",
       "Education_num   0.335182  \n",
       "Marital_status -0.199295  \n",
       "Occupation      0.034599  \n",
       "Relationship   -0.250924  \n",
       "Race            0.071853  \n",
       "Sex             0.215995  \n",
       "Capital_gain    0.223333  \n",
       "Capital_loss    0.150523  \n",
       "Hours_per_week  0.229690  \n",
       "Native_country  0.023063  \n",
       "Income          1.000000  "
      ]
     },
     "execution_count": 30,
     "metadata": {},
     "output_type": "execute_result"
    }
   ],
   "source": [
    "df.corr()"
   ]
  },
  {
   "cell_type": "code",
   "execution_count": 31,
   "id": "b82a32d9",
   "metadata": {},
   "outputs": [
    {
     "data": {
      "text/plain": [
       "<AxesSubplot:>"
      ]
     },
     "execution_count": 31,
     "metadata": {},
     "output_type": "execute_result"
    },
    {
     "data": {
      "image/png": "[encoded data removed]",
      "text/plain": [
       "<Figure size 1728x720 with 2 Axes>"
      ]
     },
     "metadata": {
      "needs_background": "light"
     },
     "output_type": "display_data"
    }
   ],
   "source": [
    "df_corr=df.corr()\n",
    "plt.figure(figsize=[24,10])\n",
    "sns.heatmap(df_corr)"
   ]
  },
  {
   "cell_type": "markdown",
   "id": "82f76f59",
   "metadata": {},
   "source": [
    "# Skewness removal"
   ]
  },
  {
   "cell_type": "code",
   "execution_count": 32,
   "id": "38010800",
   "metadata": {},
   "outputs": [
    {
     "data": {
      "text/plain": [
       "Age                0.558738\n",
       "Workclass          0.076178\n",
       "Fnlwgt             1.446972\n",
       "Education         -0.934063\n",
       "Education_num     -0.311630\n",
       "Marital_status    -0.013448\n",
       "Occupation         0.000536\n",
       "Relationship       0.786784\n",
       "Race              -2.435332\n",
       "Sex               -0.719244\n",
       "Capital_gain      11.953690\n",
       "Capital_loss       4.594549\n",
       "Hours_per_week     0.227636\n",
       "Native_country    -4.243083\n",
       "Income             1.212383\n",
       "dtype: float64"
      ]
     },
     "execution_count": 32,
     "metadata": {},
     "output_type": "execute_result"
    }
   ],
   "source": [
    "df.skew()"
   ]
  },
  {
   "cell_type": "code",
   "execution_count": 33,
   "id": "b269aa07",
   "metadata": {},
   "outputs": [
    {
     "name": "stdout",
     "output_type": "stream",
     "text": [
      "Old Shape:  (32560, 15)\n",
      "[[0.83709708 1.72133587 1.0087417  ... 2.22212013 0.26137428 0.5632099 ]\n",
      " [0.04264043 0.08522344 0.24504633 ... 0.03542999 0.26137428 0.5632099 ]\n",
      " [1.05703146 0.08522344 0.42576955 ... 0.03542999 0.26137428 0.5632099 ]\n",
      " ...\n",
      " [1.42358875 0.08522344 0.3588108  ... 0.03542999 0.26137428 0.5632099 ]\n",
      " [1.21562378 0.08522344 0.11092744 ... 1.65520046 0.26137428 0.5632099 ]\n",
      " [0.98372    0.81805622 0.92986178 ... 0.03542999 0.26137428 1.77553698]]\n"
     ]
    }
   ],
   "source": [
    "from scipy import stats\n",
    "import numpy as np\n",
    "print(\"Old Shape: \", df.shape)   \n",
    "z = np.abs(stats.zscore(df))\n",
    "print(z)"
   ]
  },
  {
   "cell_type": "code",
   "execution_count": 34,
   "id": "e33c86d1",
   "metadata": {},
   "outputs": [
    {
     "name": "stdout",
     "output_type": "stream",
     "text": [
      "(array([    3,     9,    10, ..., 32532, 32550, 32552], dtype=int64), array([13, 12,  8, ...,  8,  8,  8], dtype=int64))\n"
     ]
    }
   ],
   "source": [
    "threshold = 3\n",
    "print(np.where(z > 3))"
   ]
  },
  {
   "cell_type": "code",
   "execution_count": 35,
   "id": "71cef646",
   "metadata": {},
   "outputs": [],
   "source": [
    "after_zscore = df[(z < 3).all(axis=1)]"
   ]
  },
  {
   "cell_type": "code",
   "execution_count": 36,
   "id": "234e9b97",
   "metadata": {},
   "outputs": [
    {
     "data": {
      "text/plain": [
       "(27770, 15)"
      ]
     },
     "execution_count": 36,
     "metadata": {},
     "output_type": "execute_result"
    }
   ],
   "source": [
    "after_zscore.shape"
   ]
  },
  {
   "cell_type": "code",
   "execution_count": 37,
   "id": "b498769f",
   "metadata": {},
   "outputs": [
    {
     "data": {
      "text/plain": [
       "(32560, 15)"
      ]
     },
     "execution_count": 37,
     "metadata": {},
     "output_type": "execute_result"
    }
   ],
   "source": [
    "df.shape"
   ]
  },
  {
   "cell_type": "code",
   "execution_count": 38,
   "id": "2b869fdb",
   "metadata": {},
   "outputs": [
    {
     "data": {
      "text/plain": [
       "14.711302211302211"
      ]
     },
     "execution_count": 38,
     "metadata": {},
     "output_type": "execute_result"
    }
   ],
   "source": [
    "100-(27770/32560)*100"
   ]
  },
  {
   "cell_type": "markdown",
   "id": "8756e86d",
   "metadata": {},
   "source": [
    "Removing outlier using z score is not suggested bcz of 14% data loss"
   ]
  },
  {
   "cell_type": "code",
   "execution_count": 39,
   "id": "3666720c",
   "metadata": {},
   "outputs": [],
   "source": [
    "df1=df[['Age','Fnlwgt','Capital_gain','Capital_loss']]"
   ]
  },
  {
   "cell_type": "code",
   "execution_count": 40,
   "id": "9baf8b2b",
   "metadata": {},
   "outputs": [
    {
     "data": {
      "text/html": [
       "<div>\n",
       "<style scoped>\n",
       "    .dataframe tbody tr th:only-of-type {\n",
       "        vertical-align: middle;\n",
       "    }\n",
       "\n",
       "    .dataframe tbody tr th {\n",
       "        vertical-align: top;\n",
       "    }\n",
       "\n",
       "    .dataframe thead th {\n",
       "        text-align: right;\n",
       "    }\n",
       "</style>\n",
       "<table border=\"1\" class=\"dataframe\">\n",
       "  <thead>\n",
       "    <tr style=\"text-align: right;\">\n",
       "      <th></th>\n",
       "      <th>Age</th>\n",
       "      <th>Workclass</th>\n",
       "      <th>Fnlwgt</th>\n",
       "      <th>Education</th>\n",
       "      <th>Education_num</th>\n",
       "      <th>Marital_status</th>\n",
       "      <th>Occupation</th>\n",
       "      <th>Relationship</th>\n",
       "      <th>Race</th>\n",
       "      <th>Sex</th>\n",
       "      <th>Capital_gain</th>\n",
       "      <th>Capital_loss</th>\n",
       "      <th>Hours_per_week</th>\n",
       "      <th>Native_country</th>\n",
       "      <th>Income</th>\n",
       "    </tr>\n",
       "  </thead>\n",
       "  <tbody>\n",
       "    <tr>\n",
       "      <th>0</th>\n",
       "      <td>7.071068</td>\n",
       "      <td>2.236068</td>\n",
       "      <td>288.636450</td>\n",
       "      <td>3.000000</td>\n",
       "      <td>3.605551</td>\n",
       "      <td>1.414214</td>\n",
       "      <td>1.732051</td>\n",
       "      <td>0.000000</td>\n",
       "      <td>2.000000</td>\n",
       "      <td>1.0</td>\n",
       "      <td>0.0</td>\n",
       "      <td>0.0</td>\n",
       "      <td>3.605551</td>\n",
       "      <td>6.164414</td>\n",
       "      <td>0.0</td>\n",
       "    </tr>\n",
       "    <tr>\n",
       "      <th>1</th>\n",
       "      <td>6.164414</td>\n",
       "      <td>1.732051</td>\n",
       "      <td>464.377002</td>\n",
       "      <td>3.316625</td>\n",
       "      <td>3.000000</td>\n",
       "      <td>0.000000</td>\n",
       "      <td>2.236068</td>\n",
       "      <td>1.000000</td>\n",
       "      <td>2.000000</td>\n",
       "      <td>1.0</td>\n",
       "      <td>0.0</td>\n",
       "      <td>0.0</td>\n",
       "      <td>6.324555</td>\n",
       "      <td>6.164414</td>\n",
       "      <td>0.0</td>\n",
       "    </tr>\n",
       "    <tr>\n",
       "      <th>2</th>\n",
       "      <td>7.280110</td>\n",
       "      <td>1.732051</td>\n",
       "      <td>484.480134</td>\n",
       "      <td>1.000000</td>\n",
       "      <td>2.645751</td>\n",
       "      <td>1.414214</td>\n",
       "      <td>2.236068</td>\n",
       "      <td>0.000000</td>\n",
       "      <td>1.414214</td>\n",
       "      <td>1.0</td>\n",
       "      <td>0.0</td>\n",
       "      <td>0.0</td>\n",
       "      <td>6.324555</td>\n",
       "      <td>6.164414</td>\n",
       "      <td>0.0</td>\n",
       "    </tr>\n",
       "    <tr>\n",
       "      <th>3</th>\n",
       "      <td>5.291503</td>\n",
       "      <td>1.732051</td>\n",
       "      <td>581.729318</td>\n",
       "      <td>3.000000</td>\n",
       "      <td>3.605551</td>\n",
       "      <td>1.414214</td>\n",
       "      <td>3.000000</td>\n",
       "      <td>2.236068</td>\n",
       "      <td>1.414214</td>\n",
       "      <td>0.0</td>\n",
       "      <td>0.0</td>\n",
       "      <td>0.0</td>\n",
       "      <td>6.324555</td>\n",
       "      <td>2.000000</td>\n",
       "      <td>0.0</td>\n",
       "    </tr>\n",
       "    <tr>\n",
       "      <th>4</th>\n",
       "      <td>6.082763</td>\n",
       "      <td>1.732051</td>\n",
       "      <td>533.462276</td>\n",
       "      <td>3.464102</td>\n",
       "      <td>3.741657</td>\n",
       "      <td>1.414214</td>\n",
       "      <td>1.732051</td>\n",
       "      <td>2.236068</td>\n",
       "      <td>2.000000</td>\n",
       "      <td>0.0</td>\n",
       "      <td>0.0</td>\n",
       "      <td>0.0</td>\n",
       "      <td>6.324555</td>\n",
       "      <td>6.164414</td>\n",
       "      <td>0.0</td>\n",
       "    </tr>\n",
       "  </tbody>\n",
       "</table>\n",
       "</div>"
      ],
      "text/plain": [
       "        Age  Workclass      Fnlwgt  Education  Education_num  Marital_status  \\\n",
       "0  7.071068   2.236068  288.636450   3.000000       3.605551        1.414214   \n",
       "1  6.164414   1.732051  464.377002   3.316625       3.000000        0.000000   \n",
       "2  7.280110   1.732051  484.480134   1.000000       2.645751        1.414214   \n",
       "3  5.291503   1.732051  581.729318   3.000000       3.605551        1.414214   \n",
       "4  6.082763   1.732051  533.462276   3.464102       3.741657        1.414214   \n",
       "\n",
       "   Occupation  Relationship      Race  Sex  Capital_gain  Capital_loss  \\\n",
       "0    1.732051      0.000000  2.000000  1.0           0.0           0.0   \n",
       "1    2.236068      1.000000  2.000000  1.0           0.0           0.0   \n",
       "2    2.236068      0.000000  1.414214  1.0           0.0           0.0   \n",
       "3    3.000000      2.236068  1.414214  0.0           0.0           0.0   \n",
       "4    1.732051      2.236068  2.000000  0.0           0.0           0.0   \n",
       "\n",
       "   Hours_per_week  Native_country  Income  \n",
       "0        3.605551        6.164414     0.0  \n",
       "1        6.324555        6.164414     0.0  \n",
       "2        6.324555        6.164414     0.0  \n",
       "3        6.324555        2.000000     0.0  \n",
       "4        6.324555        6.164414     0.0  "
      ]
     },
     "execution_count": 40,
     "metadata": {},
     "output_type": "execute_result"
    }
   ],
   "source": [
    "df1 = np.sqrt(df)\n",
    "\n",
    "df1.head(5)"
   ]
  },
  {
   "cell_type": "code",
   "execution_count": 41,
   "id": "579f0492",
   "metadata": {},
   "outputs": [
    {
     "data": {
      "text/plain": [
       "Age               0.204335\n",
       "Workclass        -2.113018\n",
       "Fnlwgt            0.189066\n",
       "Education        -2.062119\n",
       "Education_num    -1.023535\n",
       "Marital_status   -1.203232\n",
       "Occupation       -0.836050\n",
       "Relationship      0.150789\n",
       "Race             -3.472696\n",
       "Sex              -0.719244\n",
       "Capital_gain      5.894949\n",
       "Capital_loss      4.376279\n",
       "Hours_per_week   -0.984894\n",
       "Native_country   -4.976745\n",
       "Income            1.212383\n",
       "dtype: float64"
      ]
     },
     "execution_count": 41,
     "metadata": {},
     "output_type": "execute_result"
    }
   ],
   "source": [
    "df1.skew()"
   ]
  },
  {
   "cell_type": "code",
   "execution_count": 42,
   "id": "6b35f7b7",
   "metadata": {},
   "outputs": [],
   "source": [
    "df=df1"
   ]
  },
  {
   "cell_type": "code",
   "execution_count": 43,
   "id": "85259213",
   "metadata": {},
   "outputs": [
    {
     "data": {
      "text/plain": [
       "4.0"
      ]
     },
     "execution_count": 43,
     "metadata": {},
     "output_type": "execute_result"
    }
   ],
   "source": [
    "from scipy import stats \n",
    "IQR = stats.iqr(df) \n",
    "IQR"
   ]
  },
  {
   "cell_type": "code",
   "execution_count": 44,
   "id": "71409790",
   "metadata": {},
   "outputs": [
    {
     "name": "stdout",
     "output_type": "stream",
     "text": [
      "(15066, 15)\n"
     ]
    }
   ],
   "source": [
    "Q1 = df.quantile(0.25)\n",
    "Q3 = df.quantile(0.75)\n",
    "df_out = df[~((df < (Q1 - 1.5 * IQR)) |(df > (Q3 + 1.5 * IQR))).any(axis=1)]\n",
    "print(df_out.shape)"
   ]
  },
  {
   "cell_type": "markdown",
   "id": "b92ea226",
   "metadata": {},
   "source": [
    "Removing data using interquartile methord is also not recomended because of high loss of data."
   ]
  },
  {
   "cell_type": "markdown",
   "id": "e00088e9",
   "metadata": {},
   "source": [
    "# 5.Feature Engineering"
   ]
  },
  {
   "cell_type": "code",
   "execution_count": 45,
   "id": "b5022a65",
   "metadata": {},
   "outputs": [],
   "source": [
    "y = df['Income']\n",
    "x = df.drop('Income', axis = 1)"
   ]
  },
  {
   "cell_type": "code",
   "execution_count": 46,
   "id": "57489f88",
   "metadata": {},
   "outputs": [],
   "source": [
    "from sklearn.model_selection import train_test_split\n",
    "from sklearn.linear_model import LogisticRegression\n",
    "from sklearn.metrics import classification_report"
   ]
  },
  {
   "cell_type": "code",
   "execution_count": 90,
   "id": "f360d113",
   "metadata": {},
   "outputs": [],
   "source": [
    "x_train, x_test, y_train, y_test = train_test_split(x,y,test_size=0.2,random_state=47)"
   ]
  },
  {
   "cell_type": "markdown",
   "id": "d8267a64",
   "metadata": {},
   "source": [
    "## Treating data imbalance"
   ]
  },
  {
   "cell_type": "code",
   "execution_count": 48,
   "id": "7c45b045",
   "metadata": {},
   "outputs": [
    {
     "name": "stdout",
     "output_type": "stream",
     "text": [
      "0.0    24719\n",
      "1.0     7841\n",
      "Name: Income, dtype: int64\n"
     ]
    }
   ],
   "source": [
    "print(df['Income'].value_counts())"
   ]
  },
  {
   "cell_type": "code",
   "execution_count": 49,
   "id": "bf2eed8f",
   "metadata": {},
   "outputs": [
    {
     "data": {
      "text/plain": [
       "0.0    19761\n",
       "1.0    19761\n",
       "Name: Income, dtype: int64"
      ]
     },
     "execution_count": 49,
     "metadata": {},
     "output_type": "execute_result"
    }
   ],
   "source": [
    "from sklearn.utils import resample\n",
    "X=pd.concat([x_train,y_train],axis=1)\n",
    "label0=X[X.Income==0]\n",
    "label1=X[X.Income==1]\n",
    "label_unsampled=resample(label1,replace=True,n_samples=len(label0),random_state=27)\n",
    "unsampled=pd.concat([label0,label_unsampled])\n",
    "unsampled.Income.value_counts()"
   ]
  },
  {
   "cell_type": "code",
   "execution_count": 50,
   "id": "5c332fd1",
   "metadata": {},
   "outputs": [],
   "source": [
    "x_train= unsampled.drop(columns='Income')\n",
    "y_train= unsampled['Income']"
   ]
  },
  {
   "cell_type": "code",
   "execution_count": 51,
   "id": "ba5838be",
   "metadata": {},
   "outputs": [
    {
     "data": {
      "text/plain": [
       "Age               0\n",
       "Workclass         0\n",
       "Fnlwgt            0\n",
       "Education         0\n",
       "Education_num     0\n",
       "Marital_status    0\n",
       "Occupation        0\n",
       "Relationship      0\n",
       "Race              0\n",
       "Sex               0\n",
       "Capital_gain      0\n",
       "Capital_loss      0\n",
       "Hours_per_week    0\n",
       "Native_country    0\n",
       "dtype: int64"
      ]
     },
     "execution_count": 51,
     "metadata": {},
     "output_type": "execute_result"
    }
   ],
   "source": [
    "x_train.isnull().sum()"
   ]
  },
  {
   "cell_type": "markdown",
   "id": "ee62c7f2",
   "metadata": {},
   "source": [
    "# Scaling"
   ]
  },
  {
   "cell_type": "code",
   "execution_count": 52,
   "id": "56e76faf",
   "metadata": {},
   "outputs": [],
   "source": [
    "# data normalization with sklearn\n",
    "from sklearn.preprocessing import MinMaxScaler\n",
    "\n",
    "# fit scaler on training data\n",
    "norm = MinMaxScaler().fit(x_train)\n",
    "\n",
    "# transform training data\n",
    "x_train_norm = norm.transform(x_train)\n",
    "\n",
    "# transform testing dataabs\n",
    "x_test_norm = norm.transform(x_test)"
   ]
  },
  {
   "cell_type": "code",
   "execution_count": 53,
   "id": "320ccd14",
   "metadata": {},
   "outputs": [],
   "source": [
    "x_test=pd.DataFrame(x_test_norm)\n",
    "x_train=pd.DataFrame(x_train_norm)"
   ]
  },
  {
   "cell_type": "code",
   "execution_count": 54,
   "id": "3c2ca30e",
   "metadata": {},
   "outputs": [
    {
     "data": {
      "text/html": [
       "<div>\n",
       "<style scoped>\n",
       "    .dataframe tbody tr th:only-of-type {\n",
       "        vertical-align: middle;\n",
       "    }\n",
       "\n",
       "    .dataframe tbody tr th {\n",
       "        vertical-align: top;\n",
       "    }\n",
       "\n",
       "    .dataframe thead th {\n",
       "        text-align: right;\n",
       "    }\n",
       "</style>\n",
       "<table border=\"1\" class=\"dataframe\">\n",
       "  <thead>\n",
       "    <tr style=\"text-align: right;\">\n",
       "      <th></th>\n",
       "      <th>0</th>\n",
       "      <th>1</th>\n",
       "      <th>2</th>\n",
       "      <th>3</th>\n",
       "      <th>4</th>\n",
       "      <th>5</th>\n",
       "      <th>6</th>\n",
       "      <th>7</th>\n",
       "      <th>8</th>\n",
       "      <th>9</th>\n",
       "      <th>10</th>\n",
       "      <th>11</th>\n",
       "      <th>12</th>\n",
       "      <th>13</th>\n",
       "    </tr>\n",
       "  </thead>\n",
       "  <tbody>\n",
       "    <tr>\n",
       "      <th>count</th>\n",
       "      <td>39522.000000</td>\n",
       "      <td>39522.000000</td>\n",
       "      <td>39522.000000</td>\n",
       "      <td>39522.000000</td>\n",
       "      <td>39522.000000</td>\n",
       "      <td>39522.000000</td>\n",
       "      <td>39522.000000</td>\n",
       "      <td>39522.000000</td>\n",
       "      <td>39522.000000</td>\n",
       "      <td>39522.000000</td>\n",
       "      <td>39522.000000</td>\n",
       "      <td>39522.000000</td>\n",
       "      <td>39522.000000</td>\n",
       "      <td>39522.000000</td>\n",
       "    </tr>\n",
       "    <tr>\n",
       "      <th>mean</th>\n",
       "      <td>0.402401</td>\n",
       "      <td>0.645314</td>\n",
       "      <td>0.308652</td>\n",
       "      <td>0.813131</td>\n",
       "      <td>0.742649</td>\n",
       "      <td>0.589786</td>\n",
       "      <td>0.632035</td>\n",
       "      <td>0.322786</td>\n",
       "      <td>0.951873</td>\n",
       "      <td>0.730935</td>\n",
       "      <td>0.043148</td>\n",
       "      <td>0.042951</td>\n",
       "      <td>0.604761</td>\n",
       "      <td>0.949029</td>\n",
       "    </tr>\n",
       "    <tr>\n",
       "      <th>std</th>\n",
       "      <td>0.190872</td>\n",
       "      <td>0.162732</td>\n",
       "      <td>0.117988</td>\n",
       "      <td>0.192942</td>\n",
       "      <td>0.143390</td>\n",
       "      <td>0.239436</td>\n",
       "      <td>0.281715</td>\n",
       "      <td>0.370285</td>\n",
       "      <td>0.142750</td>\n",
       "      <td>0.443480</td>\n",
       "      <td>0.135109</td>\n",
       "      <td>0.163784</td>\n",
       "      <td>0.112781</td>\n",
       "      <td>0.109950</td>\n",
       "    </tr>\n",
       "    <tr>\n",
       "      <th>min</th>\n",
       "      <td>0.000000</td>\n",
       "      <td>0.000000</td>\n",
       "      <td>0.000000</td>\n",
       "      <td>0.000000</td>\n",
       "      <td>0.000000</td>\n",
       "      <td>0.000000</td>\n",
       "      <td>0.000000</td>\n",
       "      <td>0.000000</td>\n",
       "      <td>0.000000</td>\n",
       "      <td>0.000000</td>\n",
       "      <td>0.000000</td>\n",
       "      <td>0.000000</td>\n",
       "      <td>0.000000</td>\n",
       "      <td>0.000000</td>\n",
       "    </tr>\n",
       "    <tr>\n",
       "      <th>25%</th>\n",
       "      <td>0.269339</td>\n",
       "      <td>0.654654</td>\n",
       "      <td>0.234453</td>\n",
       "      <td>0.774597</td>\n",
       "      <td>0.666667</td>\n",
       "      <td>0.577350</td>\n",
       "      <td>0.480384</td>\n",
       "      <td>0.000000</td>\n",
       "      <td>1.000000</td>\n",
       "      <td>0.000000</td>\n",
       "      <td>0.000000</td>\n",
       "      <td>0.000000</td>\n",
       "      <td>0.594931</td>\n",
       "      <td>0.974679</td>\n",
       "    </tr>\n",
       "    <tr>\n",
       "      <th>50%</th>\n",
       "      <td>0.410433</td>\n",
       "      <td>0.654654</td>\n",
       "      <td>0.311892</td>\n",
       "      <td>0.856349</td>\n",
       "      <td>0.720759</td>\n",
       "      <td>0.577350</td>\n",
       "      <td>0.733799</td>\n",
       "      <td>0.000000</td>\n",
       "      <td>1.000000</td>\n",
       "      <td>1.000000</td>\n",
       "      <td>0.000000</td>\n",
       "      <td>0.000000</td>\n",
       "      <td>0.594931</td>\n",
       "      <td>0.974679</td>\n",
       "    </tr>\n",
       "    <tr>\n",
       "      <th>75%</th>\n",
       "      <td>0.536361</td>\n",
       "      <td>0.654654</td>\n",
       "      <td>0.374866</td>\n",
       "      <td>0.894427</td>\n",
       "      <td>0.868517</td>\n",
       "      <td>0.816497</td>\n",
       "      <td>0.832050</td>\n",
       "      <td>0.632456</td>\n",
       "      <td>1.000000</td>\n",
       "      <td>1.000000</td>\n",
       "      <td>0.000000</td>\n",
       "      <td>0.000000</td>\n",
       "      <td>0.670400</td>\n",
       "      <td>0.974679</td>\n",
       "    </tr>\n",
       "    <tr>\n",
       "      <th>max</th>\n",
       "      <td>1.000000</td>\n",
       "      <td>1.000000</td>\n",
       "      <td>1.000000</td>\n",
       "      <td>1.000000</td>\n",
       "      <td>1.000000</td>\n",
       "      <td>1.000000</td>\n",
       "      <td>1.000000</td>\n",
       "      <td>1.000000</td>\n",
       "      <td>1.000000</td>\n",
       "      <td>1.000000</td>\n",
       "      <td>1.000000</td>\n",
       "      <td>1.000000</td>\n",
       "      <td>1.000000</td>\n",
       "      <td>1.000000</td>\n",
       "    </tr>\n",
       "  </tbody>\n",
       "</table>\n",
       "</div>"
      ],
      "text/plain": [
       "                 0             1             2             3             4   \\\n",
       "count  39522.000000  39522.000000  39522.000000  39522.000000  39522.000000   \n",
       "mean       0.402401      0.645314      0.308652      0.813131      0.742649   \n",
       "std        0.190872      0.162732      0.117988      0.192942      0.143390   \n",
       "min        0.000000      0.000000      0.000000      0.000000      0.000000   \n",
       "25%        0.269339      0.654654      0.234453      0.774597      0.666667   \n",
       "50%        0.410433      0.654654      0.311892      0.856349      0.720759   \n",
       "75%        0.536361      0.654654      0.374866      0.894427      0.868517   \n",
       "max        1.000000      1.000000      1.000000      1.000000      1.000000   \n",
       "\n",
       "                 5             6             7             8             9   \\\n",
       "count  39522.000000  39522.000000  39522.000000  39522.000000  39522.000000   \n",
       "mean       0.589786      0.632035      0.322786      0.951873      0.730935   \n",
       "std        0.239436      0.281715      0.370285      0.142750      0.443480   \n",
       "min        0.000000      0.000000      0.000000      0.000000      0.000000   \n",
       "25%        0.577350      0.480384      0.000000      1.000000      0.000000   \n",
       "50%        0.577350      0.733799      0.000000      1.000000      1.000000   \n",
       "75%        0.816497      0.832050      0.632456      1.000000      1.000000   \n",
       "max        1.000000      1.000000      1.000000      1.000000      1.000000   \n",
       "\n",
       "                 10            11            12            13  \n",
       "count  39522.000000  39522.000000  39522.000000  39522.000000  \n",
       "mean       0.043148      0.042951      0.604761      0.949029  \n",
       "std        0.135109      0.163784      0.112781      0.109950  \n",
       "min        0.000000      0.000000      0.000000      0.000000  \n",
       "25%        0.000000      0.000000      0.594931      0.974679  \n",
       "50%        0.000000      0.000000      0.594931      0.974679  \n",
       "75%        0.000000      0.000000      0.670400      0.974679  \n",
       "max        1.000000      1.000000      1.000000      1.000000  "
      ]
     },
     "execution_count": 54,
     "metadata": {},
     "output_type": "execute_result"
    }
   ],
   "source": [
    "x_train.describe()"
   ]
  },
  {
   "cell_type": "code",
   "execution_count": 55,
   "id": "dd44d170",
   "metadata": {},
   "outputs": [],
   "source": [
    "from sklearn.model_selection import train_test_split\n",
    "from sklearn.metrics import classification_report, confusion_matrix\n",
    "from sklearn.ensemble import RandomForestClassifier\n",
    "from sklearn.metrics import accuracy_score,confusion_matrix,classification_report"
   ]
  },
  {
   "cell_type": "markdown",
   "id": "32c7dff0",
   "metadata": {},
   "source": [
    "# 6.Model construction"
   ]
  },
  {
   "cell_type": "markdown",
   "id": "1ae5b6b5",
   "metadata": {},
   "source": [
    "\n",
    "RandomForestClassifier"
   ]
  },
  {
   "cell_type": "code",
   "execution_count": 56,
   "id": "f83e4d68",
   "metadata": {},
   "outputs": [
    {
     "name": "stdout",
     "output_type": "stream",
     "text": [
      "              precision    recall  f1-score   support\n",
      "\n",
      "         0.0       0.90      0.91      0.90      4958\n",
      "         1.0       0.70      0.68      0.69      1554\n",
      "\n",
      "    accuracy                           0.85      6512\n",
      "   macro avg       0.80      0.80      0.80      6512\n",
      "weighted avg       0.85      0.85      0.85      6512\n",
      "\n",
      "0.8544226044226044\n"
     ]
    }
   ],
   "source": [
    "clf= RandomForestClassifier().fit(x_train, y_train)\n",
    "predRFC= clf.predict(x_test)\n",
    "randomforest_accu=accuracy_score(y_test,predRFC)\n",
    "randomforest_accu\n",
    "#print(confusion_matrix(y_test, predRFC))\n",
    "print(classification_report(y_test, predRFC))\n",
    "print(randomforest_accu)"
   ]
  },
  {
   "cell_type": "code",
   "execution_count": 57,
   "id": "11341cfe",
   "metadata": {},
   "outputs": [
    {
     "data": {
      "text/plain": [
       "0.9249025859015232"
      ]
     },
     "execution_count": 57,
     "metadata": {},
     "output_type": "execute_result"
    }
   ],
   "source": [
    "from sklearn.model_selection import cross_val_score\n",
    "randomforest_cv= cross_val_score(clf,x_train,y_train,scoring='accuracy', cv =3).mean()\n",
    "randomforest_cv"
   ]
  },
  {
   "cell_type": "markdown",
   "id": "2578efe7",
   "metadata": {},
   "source": [
    "# SVC"
   ]
  },
  {
   "cell_type": "code",
   "execution_count": 60,
   "id": "a82f6573",
   "metadata": {},
   "outputs": [
    {
     "name": "stdout",
     "output_type": "stream",
     "text": [
      "0.7931511056511057\n",
      "[[3790 1168]\n",
      " [ 179 1375]]\n",
      "              precision    recall  f1-score   support\n",
      "\n",
      "         0.0       0.95      0.76      0.85      4958\n",
      "         1.0       0.54      0.88      0.67      1554\n",
      "\n",
      "    accuracy                           0.79      6512\n",
      "   macro avg       0.75      0.82      0.76      6512\n",
      "weighted avg       0.86      0.79      0.81      6512\n",
      "\n"
     ]
    }
   ],
   "source": [
    "# from sklearn.svm import SVC\n",
    "from sklearn.model_selection import cross_val_score\n",
    "from sklearn import svm\n",
    "from sklearn.svm import LinearSVC\n",
    "svc=SVC()\n",
    "svc.fit(x_train,y_train)\n",
    "svc.score(x_train,y_train)\n",
    "predsvc=svc.predict(x_test)\n",
    "svc_acc=accuracy_score(y_test,predsvc)\n",
    "print(svc_acc)\n",
    "print(confusion_matrix(y_test,predsvc))\n",
    "print(classification_report(y_test,predsvc))"
   ]
  },
  {
   "cell_type": "code",
   "execution_count": 61,
   "id": "b1e36b0b",
   "metadata": {},
   "outputs": [
    {
     "data": {
      "text/plain": [
       "0.7930282555282555"
      ]
     },
     "execution_count": 61,
     "metadata": {},
     "output_type": "execute_result"
    }
   ],
   "source": [
    "svc_cv=cross_val_score(svc,x,y,scoring='accuracy', cv = 5).mean()\n",
    "svc_cv"
   ]
  },
  {
   "cell_type": "markdown",
   "id": "6f9e1505",
   "metadata": {},
   "source": [
    "# DecisionTreeClassifier"
   ]
  },
  {
   "cell_type": "code",
   "execution_count": 62,
   "id": "dd17261a",
   "metadata": {},
   "outputs": [
    {
     "name": "stdout",
     "output_type": "stream",
     "text": [
      "0.8203316953316954\n"
     ]
    },
    {
     "data": {
      "text/html": [
       "<div>\n",
       "<style scoped>\n",
       "    .dataframe tbody tr th:only-of-type {\n",
       "        vertical-align: middle;\n",
       "    }\n",
       "\n",
       "    .dataframe tbody tr th {\n",
       "        vertical-align: top;\n",
       "    }\n",
       "\n",
       "    .dataframe thead th {\n",
       "        text-align: right;\n",
       "    }\n",
       "</style>\n",
       "<table border=\"1\" class=\"dataframe\">\n",
       "  <thead>\n",
       "    <tr style=\"text-align: right;\">\n",
       "      <th></th>\n",
       "      <th>precision</th>\n",
       "      <th>recall</th>\n",
       "      <th>f1-score</th>\n",
       "      <th>support</th>\n",
       "    </tr>\n",
       "  </thead>\n",
       "  <tbody>\n",
       "    <tr>\n",
       "      <th>0.0</th>\n",
       "      <td>0.879103</td>\n",
       "      <td>0.885841</td>\n",
       "      <td>0.882459</td>\n",
       "      <td>4958.000000</td>\n",
       "    </tr>\n",
       "    <tr>\n",
       "      <th>1.0</th>\n",
       "      <td>0.626649</td>\n",
       "      <td>0.611326</td>\n",
       "      <td>0.618893</td>\n",
       "      <td>1554.000000</td>\n",
       "    </tr>\n",
       "    <tr>\n",
       "      <th>accuracy</th>\n",
       "      <td>0.820332</td>\n",
       "      <td>0.820332</td>\n",
       "      <td>0.820332</td>\n",
       "      <td>0.820332</td>\n",
       "    </tr>\n",
       "    <tr>\n",
       "      <th>macro avg</th>\n",
       "      <td>0.752876</td>\n",
       "      <td>0.748583</td>\n",
       "      <td>0.750676</td>\n",
       "      <td>6512.000000</td>\n",
       "    </tr>\n",
       "    <tr>\n",
       "      <th>weighted avg</th>\n",
       "      <td>0.818859</td>\n",
       "      <td>0.820332</td>\n",
       "      <td>0.819563</td>\n",
       "      <td>6512.000000</td>\n",
       "    </tr>\n",
       "  </tbody>\n",
       "</table>\n",
       "</div>"
      ],
      "text/plain": [
       "              precision    recall  f1-score      support\n",
       "0.0            0.879103  0.885841  0.882459  4958.000000\n",
       "1.0            0.626649  0.611326  0.618893  1554.000000\n",
       "accuracy       0.820332  0.820332  0.820332     0.820332\n",
       "macro avg      0.752876  0.748583  0.750676  6512.000000\n",
       "weighted avg   0.818859  0.820332  0.819563  6512.000000"
      ]
     },
     "execution_count": 62,
     "metadata": {},
     "output_type": "execute_result"
    }
   ],
   "source": [
    "from sklearn.tree import DecisionTreeClassifier\n",
    "DTC = DecisionTreeClassifier()\n",
    "\n",
    "DTC.fit(x_train,y_train)\n",
    "\n",
    "predDTC = DTC.predict(x_test)\n",
    "\n",
    "reportDTC = classification_report(y_test,predDTC, output_dict = True)\n",
    "\n",
    "crDTC = pd.DataFrame(reportDTC).transpose()\n",
    "dtc_acc=accuracy_score(y_test,predDTC)\n",
    "print(dtc_acc)\n",
    "crDTC"
   ]
  },
  {
   "cell_type": "code",
   "execution_count": 63,
   "id": "e5fff7f4",
   "metadata": {},
   "outputs": [
    {
     "data": {
      "text/plain": [
       "0.8154791154791156"
      ]
     },
     "execution_count": 63,
     "metadata": {},
     "output_type": "execute_result"
    }
   ],
   "source": [
    "from sklearn.model_selection import cross_val_score\n",
    "dtc_cv=cross_val_score(DTC,x,y,scoring='accuracy', cv = 10).mean()\n",
    "dtc_cv"
   ]
  },
  {
   "cell_type": "markdown",
   "id": "37efc38a",
   "metadata": {},
   "source": [
    "# GaussianNB"
   ]
  },
  {
   "cell_type": "code",
   "execution_count": 64,
   "id": "d6ae3518",
   "metadata": {},
   "outputs": [
    {
     "name": "stdout",
     "output_type": "stream",
     "text": [
      "0.7980651105651105\n"
     ]
    },
    {
     "data": {
      "text/html": [
       "<div>\n",
       "<style scoped>\n",
       "    .dataframe tbody tr th:only-of-type {\n",
       "        vertical-align: middle;\n",
       "    }\n",
       "\n",
       "    .dataframe tbody tr th {\n",
       "        vertical-align: top;\n",
       "    }\n",
       "\n",
       "    .dataframe thead th {\n",
       "        text-align: right;\n",
       "    }\n",
       "</style>\n",
       "<table border=\"1\" class=\"dataframe\">\n",
       "  <thead>\n",
       "    <tr style=\"text-align: right;\">\n",
       "      <th></th>\n",
       "      <th>precision</th>\n",
       "      <th>recall</th>\n",
       "      <th>f1-score</th>\n",
       "      <th>support</th>\n",
       "    </tr>\n",
       "  </thead>\n",
       "  <tbody>\n",
       "    <tr>\n",
       "      <th>0.0</th>\n",
       "      <td>0.919025</td>\n",
       "      <td>0.805768</td>\n",
       "      <td>0.858678</td>\n",
       "      <td>4958.000000</td>\n",
       "    </tr>\n",
       "    <tr>\n",
       "      <th>1.0</th>\n",
       "      <td>0.555196</td>\n",
       "      <td>0.773488</td>\n",
       "      <td>0.646410</td>\n",
       "      <td>1554.000000</td>\n",
       "    </tr>\n",
       "    <tr>\n",
       "      <th>accuracy</th>\n",
       "      <td>0.798065</td>\n",
       "      <td>0.798065</td>\n",
       "      <td>0.798065</td>\n",
       "      <td>0.798065</td>\n",
       "    </tr>\n",
       "    <tr>\n",
       "      <th>macro avg</th>\n",
       "      <td>0.737110</td>\n",
       "      <td>0.789628</td>\n",
       "      <td>0.752544</td>\n",
       "      <td>6512.000000</td>\n",
       "    </tr>\n",
       "    <tr>\n",
       "      <th>weighted avg</th>\n",
       "      <td>0.832202</td>\n",
       "      <td>0.798065</td>\n",
       "      <td>0.808023</td>\n",
       "      <td>6512.000000</td>\n",
       "    </tr>\n",
       "  </tbody>\n",
       "</table>\n",
       "</div>"
      ],
      "text/plain": [
       "              precision    recall  f1-score      support\n",
       "0.0            0.919025  0.805768  0.858678  4958.000000\n",
       "1.0            0.555196  0.773488  0.646410  1554.000000\n",
       "accuracy       0.798065  0.798065  0.798065     0.798065\n",
       "macro avg      0.737110  0.789628  0.752544  6512.000000\n",
       "weighted avg   0.832202  0.798065  0.808023  6512.000000"
      ]
     },
     "execution_count": 64,
     "metadata": {},
     "output_type": "execute_result"
    }
   ],
   "source": [
    "from sklearn.naive_bayes import GaussianNB\n",
    "GNB = GaussianNB()\n",
    "\n",
    "GNB.fit(x_train,y_train)\n",
    "\n",
    "predGNB = GNB.predict(x_test)\n",
    "\n",
    "reportGNB = classification_report(y_test, predGNB, output_dict = True)\n",
    "  \n",
    "crGNB = pd.DataFrame(reportGNB).transpose()\n",
    "gnb_acc=accuracy_score(y_test,predGNB)\n",
    "print(gnb_acc)\n",
    "crGNB"
   ]
  },
  {
   "cell_type": "code",
   "execution_count": 65,
   "id": "073a1ecb",
   "metadata": {},
   "outputs": [
    {
     "data": {
      "text/plain": [
       "0.8120393120393119"
      ]
     },
     "execution_count": 65,
     "metadata": {},
     "output_type": "execute_result"
    }
   ],
   "source": [
    "gnb_cv=cross_val_score(GNB,x,y,scoring='accuracy', cv = 10).mean()\n",
    "gnb_cv"
   ]
  },
  {
   "cell_type": "markdown",
   "id": "351b4a02",
   "metadata": {},
   "source": [
    "# KNeighborsClassifier"
   ]
  },
  {
   "cell_type": "code",
   "execution_count": 66,
   "id": "147da0aa",
   "metadata": {},
   "outputs": [
    {
     "name": "stdout",
     "output_type": "stream",
     "text": [
      "0.7834766584766585\n"
     ]
    },
    {
     "data": {
      "text/html": [
       "<div>\n",
       "<style scoped>\n",
       "    .dataframe tbody tr th:only-of-type {\n",
       "        vertical-align: middle;\n",
       "    }\n",
       "\n",
       "    .dataframe tbody tr th {\n",
       "        vertical-align: top;\n",
       "    }\n",
       "\n",
       "    .dataframe thead th {\n",
       "        text-align: right;\n",
       "    }\n",
       "</style>\n",
       "<table border=\"1\" class=\"dataframe\">\n",
       "  <thead>\n",
       "    <tr style=\"text-align: right;\">\n",
       "      <th></th>\n",
       "      <th>precision</th>\n",
       "      <th>recall</th>\n",
       "      <th>f1-score</th>\n",
       "      <th>support</th>\n",
       "    </tr>\n",
       "  </thead>\n",
       "  <tbody>\n",
       "    <tr>\n",
       "      <th>0.0</th>\n",
       "      <td>0.917608</td>\n",
       "      <td>0.786204</td>\n",
       "      <td>0.846839</td>\n",
       "      <td>4958.000000</td>\n",
       "    </tr>\n",
       "    <tr>\n",
       "      <th>1.0</th>\n",
       "      <td>0.531802</td>\n",
       "      <td>0.774775</td>\n",
       "      <td>0.630697</td>\n",
       "      <td>1554.000000</td>\n",
       "    </tr>\n",
       "    <tr>\n",
       "      <th>accuracy</th>\n",
       "      <td>0.783477</td>\n",
       "      <td>0.783477</td>\n",
       "      <td>0.783477</td>\n",
       "      <td>0.783477</td>\n",
       "    </tr>\n",
       "    <tr>\n",
       "      <th>macro avg</th>\n",
       "      <td>0.724705</td>\n",
       "      <td>0.780489</td>\n",
       "      <td>0.738768</td>\n",
       "      <td>6512.000000</td>\n",
       "    </tr>\n",
       "    <tr>\n",
       "      <th>weighted avg</th>\n",
       "      <td>0.825541</td>\n",
       "      <td>0.783477</td>\n",
       "      <td>0.795260</td>\n",
       "      <td>6512.000000</td>\n",
       "    </tr>\n",
       "  </tbody>\n",
       "</table>\n",
       "</div>"
      ],
      "text/plain": [
       "              precision    recall  f1-score      support\n",
       "0.0            0.917608  0.786204  0.846839  4958.000000\n",
       "1.0            0.531802  0.774775  0.630697  1554.000000\n",
       "accuracy       0.783477  0.783477  0.783477     0.783477\n",
       "macro avg      0.724705  0.780489  0.738768  6512.000000\n",
       "weighted avg   0.825541  0.783477  0.795260  6512.000000"
      ]
     },
     "execution_count": 66,
     "metadata": {},
     "output_type": "execute_result"
    }
   ],
   "source": [
    "from sklearn.neighbors import KNeighborsClassifier\n",
    "KNN = KNeighborsClassifier()\n",
    "\n",
    "KNN.fit(x_train,y_train)\n",
    "\n",
    "predKNN = KNN.predict(x_test)\n",
    "\n",
    "reportKNN = classification_report(y_test,predKNN, output_dict = True)\n",
    "\n",
    "crKNN = pd.DataFrame(reportKNN).transpose()\n",
    "knn_acc=accuracy_score(y_test,predKNN)\n",
    "print(knn_acc)\n",
    "crKNN"
   ]
  },
  {
   "cell_type": "code",
   "execution_count": 67,
   "id": "1c39b208",
   "metadata": {},
   "outputs": [
    {
     "data": {
      "text/plain": [
       "0.8067567567567568"
      ]
     },
     "execution_count": 67,
     "metadata": {},
     "output_type": "execute_result"
    }
   ],
   "source": [
    "knn_cv=cross_val_score(KNN,x,y,scoring='accuracy', cv = 10).mean()\n",
    "knn_cv"
   ]
  },
  {
   "cell_type": "markdown",
   "id": "12a55140",
   "metadata": {},
   "source": [
    "# LogisticRegression"
   ]
  },
  {
   "cell_type": "code",
   "execution_count": 68,
   "id": "8da3e763",
   "metadata": {},
   "outputs": [
    {
     "name": "stdout",
     "output_type": "stream",
     "text": [
      "0.789465601965602\n",
      "[[3890 1068]\n",
      " [ 303 1251]]\n"
     ]
    },
    {
     "data": {
      "text/html": [
       "<div>\n",
       "<style scoped>\n",
       "    .dataframe tbody tr th:only-of-type {\n",
       "        vertical-align: middle;\n",
       "    }\n",
       "\n",
       "    .dataframe tbody tr th {\n",
       "        vertical-align: top;\n",
       "    }\n",
       "\n",
       "    .dataframe thead th {\n",
       "        text-align: right;\n",
       "    }\n",
       "</style>\n",
       "<table border=\"1\" class=\"dataframe\">\n",
       "  <thead>\n",
       "    <tr style=\"text-align: right;\">\n",
       "      <th></th>\n",
       "      <th>precision</th>\n",
       "      <th>recall</th>\n",
       "      <th>f1-score</th>\n",
       "      <th>support</th>\n",
       "    </tr>\n",
       "  </thead>\n",
       "  <tbody>\n",
       "    <tr>\n",
       "      <th>0.0</th>\n",
       "      <td>0.927737</td>\n",
       "      <td>0.784591</td>\n",
       "      <td>0.850180</td>\n",
       "      <td>4958.000000</td>\n",
       "    </tr>\n",
       "    <tr>\n",
       "      <th>1.0</th>\n",
       "      <td>0.539457</td>\n",
       "      <td>0.805019</td>\n",
       "      <td>0.646011</td>\n",
       "      <td>1554.000000</td>\n",
       "    </tr>\n",
       "    <tr>\n",
       "      <th>accuracy</th>\n",
       "      <td>0.789466</td>\n",
       "      <td>0.789466</td>\n",
       "      <td>0.789466</td>\n",
       "      <td>0.789466</td>\n",
       "    </tr>\n",
       "    <tr>\n",
       "      <th>macro avg</th>\n",
       "      <td>0.733597</td>\n",
       "      <td>0.794805</td>\n",
       "      <td>0.748096</td>\n",
       "      <td>6512.000000</td>\n",
       "    </tr>\n",
       "    <tr>\n",
       "      <th>weighted avg</th>\n",
       "      <td>0.835079</td>\n",
       "      <td>0.789466</td>\n",
       "      <td>0.801458</td>\n",
       "      <td>6512.000000</td>\n",
       "    </tr>\n",
       "  </tbody>\n",
       "</table>\n",
       "</div>"
      ],
      "text/plain": [
       "              precision    recall  f1-score      support\n",
       "0.0            0.927737  0.784591  0.850180  4958.000000\n",
       "1.0            0.539457  0.805019  0.646011  1554.000000\n",
       "accuracy       0.789466  0.789466  0.789466     0.789466\n",
       "macro avg      0.733597  0.794805  0.748096  6512.000000\n",
       "weighted avg   0.835079  0.789466  0.801458  6512.000000"
      ]
     },
     "execution_count": 68,
     "metadata": {},
     "output_type": "execute_result"
    }
   ],
   "source": [
    "from sklearn.linear_model import LogisticRegression\n",
    "\n",
    "LReg = LogisticRegression()\n",
    "\n",
    "LReg.fit(x_train,y_train)\n",
    "\n",
    "predLReg = LReg.predict(x_test)\n",
    "\n",
    "reportLReg = classification_report(y_test, predLReg, output_dict = True)\n",
    "\n",
    "crLReg = pd.DataFrame(reportLReg).transpose()\n",
    "logisticregression_acc=accuracy_score(y_test,predLReg)\n",
    "print(logisticregression_acc)\n",
    "print(confusion_matrix(y_test, predLReg))\n",
    "crLReg"
   ]
  },
  {
   "cell_type": "code",
   "execution_count": 69,
   "id": "274e2e8b",
   "metadata": {},
   "outputs": [
    {
     "data": {
      "text/plain": [
       "0.8097051597051598"
      ]
     },
     "execution_count": 69,
     "metadata": {},
     "output_type": "execute_result"
    }
   ],
   "source": [
    "logisticregression_cv= cross_val_score(LReg,x,y,scoring='accuracy', cv = 10).mean()\n",
    "logisticregression_cv"
   ]
  },
  {
   "cell_type": "markdown",
   "id": "80c4548b",
   "metadata": {},
   "source": [
    "Choosing decission tree classifier and random forest for hyper parameter tuning."
   ]
  },
  {
   "cell_type": "markdown",
   "id": "2567d4d4",
   "metadata": {},
   "source": [
    "# 7.HYPER PARAMETER TUNING"
   ]
  },
  {
   "cell_type": "markdown",
   "id": "8117958b",
   "metadata": {},
   "source": [
    "FINDING BEST RANDOM STATE"
   ]
  },
  {
   "cell_type": "code",
   "execution_count": 70,
   "id": "0e9828b7",
   "metadata": {},
   "outputs": [
    {
     "name": "stdout",
     "output_type": "stream",
     "text": [
      "0 1.0391307365530054\n",
      "least value 0 1.0391307365530054\n",
      "1 1.05100149694767\n",
      "2 1.0259607621084863\n",
      "least value 2 1.0259607621084863\n",
      "3 1.02943631465032\n",
      "4 1.0378884404109108\n",
      "5 1.0609618324432775\n",
      "6 1.0021633038096862\n",
      "least value 6 1.0021633038096862\n",
      "7 1.0290975356571597\n",
      "8 1.0225352277207664\n",
      "9 1.0390245964627054\n",
      "10 1.0534425032423274\n",
      "11 1.022463005540872\n",
      "12 1.038164945083377\n",
      "13 1.0309638957390437\n",
      "14 1.054686372152977\n",
      "15 1.0680975206146077\n",
      "16 1.0780460140928878\n",
      "17 1.0295743990990227\n",
      "18 1.0483235476601935\n",
      "19 1.0371339721315926\n",
      "20 1.0436282467532467\n",
      "21 1.0259444859883269\n",
      "22 1.0090001429186382\n",
      "23 1.084386741592054\n",
      "24 1.0457268794431491\n",
      "25 1.0234873780533014\n",
      "26 1.0478260405479327\n",
      "27 1.0165718926242233\n",
      "28 1.035449428013787\n",
      "29 1.0432049721519552\n",
      "30 1.0090110206286105\n",
      "31 0.995214279678819\n",
      "least value 31 0.995214279678819\n",
      "32 1.0569607030061179\n",
      "33 1.0729600926944995\n",
      "34 1.0856101904534343\n",
      "35 1.052072637940031\n",
      "36 1.0333027972168332\n",
      "37 1.0203944282526818\n",
      "38 1.0553289131928154\n",
      "39 1.0806366227534554\n",
      "40 1.0537438231283356\n",
      "41 1.0253439512105613\n",
      "42 1.0396610247372609\n",
      "43 1.0206199091112238\n",
      "44 1.0534380450140426\n",
      "45 1.0093992231451145\n",
      "46 1.0102349041005634\n",
      "47 1.0250117203294336\n",
      "48 1.040915192107276\n",
      "49 1.0414466641763205\n",
      "50 1.0482771535709987\n",
      "51 0.9996319061852221\n",
      "52 1.0269960984494169\n",
      "53 1.0248925607301664\n",
      "54 1.014561335711064\n",
      "55 1.0542143569525737\n",
      "56 1.047707733014429\n",
      "57 1.0367787659842713\n",
      "58 1.0309638957390437\n",
      "59 1.0563773725546763\n",
      "60 1.083424597178452\n",
      "61 1.0287048441991424\n",
      "62 1.0643912656917927\n",
      "63 1.0208297087941676\n",
      "64 1.0259189989212987\n",
      "65 1.0298376974456207\n",
      "66 1.0906998444069615\n",
      "67 1.0476526205012953\n",
      "68 1.0238082750141257\n",
      "69 1.0186966156870318\n",
      "70 1.0748782179571252\n",
      "71 1.0244136488941227\n",
      "72 1.0484631248425513\n",
      "73 1.0192030511400105\n",
      "74 0.9683561255065678\n",
      "least value 74 0.9683561255065678\n",
      "75 1.042069425590244\n",
      "76 1.0627211592944255\n",
      "77 0.9961917455262654\n",
      "78 0.998754906198586\n",
      "79 1.0358927292455622\n",
      "80 1.020243528252953\n",
      "81 1.0375547639181504\n",
      "82 1.0607951896202175\n",
      "83 1.0507876985999864\n",
      "84 1.0533607684187283\n",
      "85 1.0616514901613812\n",
      "86 1.0359241679212783\n",
      "87 1.0517046395088312\n",
      "88 1.0271904576802036\n",
      "89 1.0289423244009896\n",
      "90 1.0305118415709207\n",
      "91 1.0763413112409437\n",
      "92 0.9996554187388269\n",
      "93 1.051286604671711\n",
      "94 1.0246153872182329\n",
      "95 1.0263675200723845\n",
      "96 0.9975349612270449\n",
      "97 1.061752935210828\n",
      "98 1.0108833391667287\n",
      "99 1.0394012981022027\n"
     ]
    }
   ],
   "source": [
    "#FINDING BEST RANDOM STATE\n",
    "\n",
    "from sklearn.metrics import r2_score\n",
    "d=5\n",
    "for i in range(0,100):\n",
    "  x_train, x_test, y_train, y_test = train_test_split(x,y,test_size=0.2,random_state=i)\n",
    "  DTC.fit(x_train,y_train)\n",
    "  pred_train=DTC.predict(x_train)\n",
    "  pred_test = DTC.predict(x_test)\n",
    "  a=r2_score(y_train,pred_train)\n",
    "  b=r2_score(y_test,pred_test)\n",
    "  c=a-b\n",
    "  print(i,c)\n",
    "  if d>=c:\n",
    "    d=c\n",
    "    print(\"least value\",i,d)"
   ]
  },
  {
   "cell_type": "code",
   "execution_count": 71,
   "id": "0ff0b7f4",
   "metadata": {},
   "outputs": [],
   "source": [
    "x_train, x_test, y_train, y_test = train_test_split(x,y,test_size=0.2,random_state=74)"
   ]
  },
  {
   "cell_type": "markdown",
   "id": "49bf32b4",
   "metadata": {},
   "source": [
    "# DecisionTreeClassifier"
   ]
  },
  {
   "cell_type": "code",
   "execution_count": 72,
   "id": "5925b479",
   "metadata": {},
   "outputs": [
    {
     "data": {
      "text/plain": [
       "GridSearchCV(cv=5, estimator=DecisionTreeClassifier(),\n",
       "             param_grid={'criterion': ['gini', 'entropy'],\n",
       "                         'max_depth': [6, 7, 8, 9, 10],\n",
       "                         'min_samples_leaf': [2, 3, 4, 5, 6, 7],\n",
       "                         'min_samples_split': [2, 3, 4, 5, 6, 7],\n",
       "                         'splitter': ['best', 'random']})"
      ]
     },
     "execution_count": 72,
     "metadata": {},
     "output_type": "execute_result"
    }
   ],
   "source": [
    "from sklearn.model_selection import GridSearchCV\n",
    "parameter ={ 'max_depth': np.arange(2,10),'criterion':['gini','entropy'],'splitter':['best', 'random'],'max_depth': [6,7,8,9,10],\n",
    "'min_samples_leaf': [2,3,4,5,6,7],\n",
    "'min_samples_split': [2,3,4,5,6,7]}\n",
    "GCV=GridSearchCV(DecisionTreeClassifier(),parameter,cv=5)\n",
    "GCV.fit(x_train,y_train)"
   ]
  },
  {
   "cell_type": "code",
   "execution_count": 73,
   "id": "252ecd01",
   "metadata": {},
   "outputs": [
    {
     "data": {
      "text/plain": [
       "{'criterion': 'gini',\n",
       " 'max_depth': 7,\n",
       " 'min_samples_leaf': 7,\n",
       " 'min_samples_split': 2,\n",
       " 'splitter': 'best'}"
      ]
     },
     "execution_count": 73,
     "metadata": {},
     "output_type": "execute_result"
    }
   ],
   "source": [
    "GCV.best_params_"
   ]
  },
  {
   "cell_type": "code",
   "execution_count": 74,
   "id": "81dbf610",
   "metadata": {},
   "outputs": [
    {
     "name": "stdout",
     "output_type": "stream",
     "text": [
      "0.8617936117936118\n"
     ]
    }
   ],
   "source": [
    "from sklearn.tree import DecisionTreeClassifier\n",
    "final_mod=DecisionTreeClassifier(criterion='gini',splitter= 'best',random_state = 74,max_depth=10,min_samples_leaf= 7, min_samples_split= 6)\n",
    "final_mod.fit(x_train,y_train)\n",
    "pred=final_mod.predict(x_test)\n",
    "acc=accuracy_score(y_test,pred)\n",
    "print(acc)"
   ]
  },
  {
   "cell_type": "code",
   "execution_count": 75,
   "id": "13c64657",
   "metadata": {},
   "outputs": [
    {
     "data": {
      "text/plain": [
       "0.852886977886978"
      ]
     },
     "execution_count": 75,
     "metadata": {},
     "output_type": "execute_result"
    }
   ],
   "source": [
    "from sklearn.model_selection import cross_val_score\n",
    "dtc_cv=cross_val_score(final_mod,x,y,scoring='accuracy', cv = 5).mean()\n",
    "dtc_cv"
   ]
  },
  {
   "cell_type": "code",
   "execution_count": 76,
   "id": "f95db56b",
   "metadata": {},
   "outputs": [],
   "source": [
    "rfc=RandomForestClassifier()\n",
    "param_grid={\n",
    "    'criterion' : [\"gini\", \"entropy\"],\n",
    "    'n_estimators':[200,1000,50],\n",
    "    'min_samples_split':[2,3,4],\n",
    "     'random_state':[10]              \n",
    "}"
   ]
  },
  {
   "cell_type": "markdown",
   "id": "e4a2f69f",
   "metadata": {},
   "source": [
    "# RandomForestClassifier"
   ]
  },
  {
   "cell_type": "code",
   "execution_count": 77,
   "id": "ce6b33e0",
   "metadata": {},
   "outputs": [
    {
     "name": "stdout",
     "output_type": "stream",
     "text": [
      "Fitting 4 folds for each of 18 candidates, totalling 72 fits\n"
     ]
    },
    {
     "data": {
      "text/plain": [
       "GridSearchCV(cv=4, estimator=RandomForestClassifier(), n_jobs=-1,\n",
       "             param_grid={'criterion': ['gini', 'entropy'],\n",
       "                         'min_samples_split': [2, 3, 4],\n",
       "                         'n_estimators': [200, 1000, 50],\n",
       "                         'random_state': [10]},\n",
       "             scoring='accuracy', verbose=2)"
      ]
     },
     "execution_count": 77,
     "metadata": {},
     "output_type": "execute_result"
    }
   ],
   "source": [
    "rf=GridSearchCV(RandomForestClassifier(),param_grid,cv=4,scoring='accuracy',n_jobs=-1,verbose=2)\n",
    "rf.fit(x_train,y_train)"
   ]
  },
  {
   "cell_type": "code",
   "execution_count": 78,
   "id": "273893da",
   "metadata": {},
   "outputs": [
    {
     "data": {
      "text/plain": [
       "{'criterion': 'gini',\n",
       " 'min_samples_split': 4,\n",
       " 'n_estimators': 50,\n",
       " 'random_state': 10}"
      ]
     },
     "execution_count": 78,
     "metadata": {},
     "output_type": "execute_result"
    }
   ],
   "source": [
    "rf.best_params_"
   ]
  },
  {
   "cell_type": "code",
   "execution_count": 79,
   "id": "00b5c47e",
   "metadata": {},
   "outputs": [
    {
     "name": "stdout",
     "output_type": "stream",
     "text": [
      "              precision    recall  f1-score   support\n",
      "\n",
      "         0.0       0.89      0.93      0.91      4952\n",
      "         1.0       0.76      0.65      0.70      1560\n",
      "\n",
      "    accuracy                           0.87      6512\n",
      "   macro avg       0.83      0.79      0.81      6512\n",
      "weighted avg       0.86      0.87      0.86      6512\n",
      "\n",
      "0.8659398034398035\n"
     ]
    }
   ],
   "source": [
    "clf= RandomForestClassifier(criterion='gini',min_samples_split=3,n_estimators=200,random_state=10).fit(x_train, y_train)\n",
    "fianlRFC= clf.predict(x_test)\n",
    "randomforest_accu=accuracy_score(y_test,fianlRFC)\n",
    "randomforest_accu\n",
    "#print(confusion_matrix(y_test, predRFC))\n",
    "print(classification_report(y_test, fianlRFC))\n",
    "print(randomforest_accu)"
   ]
  },
  {
   "cell_type": "code",
   "execution_count": 80,
   "id": "f6903417",
   "metadata": {},
   "outputs": [
    {
     "name": "stdout",
     "output_type": "stream",
     "text": [
      "0.8659398034398035\n"
     ]
    }
   ],
   "source": [
    "print(randomforest_accu)"
   ]
  },
  {
   "cell_type": "code",
   "execution_count": 81,
   "id": "4ff5b76b",
   "metadata": {},
   "outputs": [
    {
     "data": {
      "text/plain": [
       "0.858906810967815"
      ]
     },
     "execution_count": 81,
     "metadata": {},
     "output_type": "execute_result"
    }
   ],
   "source": [
    "randomforest_cv= cross_val_score(clf,x,y,scoring='accuracy', cv = 3).mean()\n",
    "randomforest_cv"
   ]
  },
  {
   "cell_type": "markdown",
   "id": "77ac456a",
   "metadata": {},
   "source": [
    "Decission Tree with accuracy 0.862 and cv score 0.852"
   ]
  },
  {
   "cell_type": "markdown",
   "id": "273c683e",
   "metadata": {},
   "source": [
    "Random forest with accuracy 0.867 and cv score 0.859"
   ]
  },
  {
   "cell_type": "markdown",
   "id": "742f8540",
   "metadata": {},
   "source": [
    "# 8.Evaluation metrics"
   ]
  },
  {
   "cell_type": "code",
   "execution_count": 82,
   "id": "9fe04adb",
   "metadata": {},
   "outputs": [],
   "source": [
    "from sklearn.datasets import make_circles\n",
    "from sklearn.metrics import accuracy_score\n",
    "from sklearn.metrics import precision_score\n",
    "from sklearn.metrics import recall_score\n",
    "from sklearn.metrics import f1_score\n",
    "from sklearn.metrics import roc_auc_score\n",
    "from sklearn.metrics import confusion_matrix"
   ]
  },
  {
   "cell_type": "markdown",
   "id": "4273c2e7",
   "metadata": {},
   "source": [
    "choosing Random forest as the best model with 86.7% accuracy."
   ]
  },
  {
   "cell_type": "markdown",
   "id": "5b9b8bd3",
   "metadata": {},
   "source": [
    "# 9. roc_auc_score"
   ]
  },
  {
   "cell_type": "code",
   "execution_count": 84,
   "id": "22cc2732",
   "metadata": {},
   "outputs": [],
   "source": [
    "# train models\n",
    "from sklearn.linear_model import LogisticRegression\n",
    "from sklearn.neighbors import KNeighborsClassifier\n",
    "\n",
    "# RandomForestClassifier\n",
    "model1 = RandomForestClassifier()\n",
    "# DecisionTreeClassifier\n",
    "model2 = DecisionTreeClassifier()\n",
    "\n",
    "# fit model\n",
    "model1.fit(x_train, y_train)\n",
    "model2.fit(x_train, y_train)\n",
    "\n",
    "# predict probabilities\n",
    "pred_prob1 = model1.predict_proba(x_test)\n",
    "pred_prob2 = model2.predict_proba(x_test)"
   ]
  },
  {
   "cell_type": "code",
   "execution_count": 85,
   "id": "2eddc43c",
   "metadata": {},
   "outputs": [],
   "source": [
    "from sklearn.metrics import roc_curve\n",
    "\n",
    "# roc curve for models\n",
    "fpr1, tpr1, thresh1 = roc_curve(y_test, pred_prob1[:,1], pos_label=1)\n",
    "fpr2, tpr2, thresh2 = roc_curve(y_test, pred_prob2[:,1], pos_label=1)\n",
    "\n",
    "# roc curve for tpr = fpr \n",
    "random_probs = [0 for i in range(len(y_test))]\n",
    "p_fpr, p_tpr, _ = roc_curve(y_test, random_probs, pos_label=1)"
   ]
  },
  {
   "cell_type": "code",
   "execution_count": 86,
   "id": "2b44cfd5",
   "metadata": {},
   "outputs": [
    {
     "name": "stdout",
     "output_type": "stream",
     "text": [
      "0.9153604733648151 0.7640274843627024\n"
     ]
    }
   ],
   "source": [
    "from sklearn.metrics import roc_auc_score\n",
    "\n",
    "# auc scores\n",
    "auc_score1 = roc_auc_score(y_test, pred_prob1[:,1])\n",
    "auc_score2 = roc_auc_score(y_test, pred_prob2[:,1])\n",
    "\n",
    "print(auc_score1, auc_score2)"
   ]
  },
  {
   "cell_type": "code",
   "execution_count": 87,
   "id": "ad3684c3",
   "metadata": {},
   "outputs": [
    {
     "data": {
      "image/png": "[encoded data removed]",
      "text/plain": [
       "<Figure size 576x396 with 1 Axes>"
      ]
     },
     "metadata": {},
     "output_type": "display_data"
    }
   ],
   "source": [
    "import matplotlib.pyplot as plt\n",
    "plt.style.use('seaborn')\n",
    "\n",
    "# plot roc curves\n",
    "plt.plot(fpr1, tpr1, linestyle='--',color='orange', label='RandomForestClassifier')\n",
    "plt.plot(p_fpr, p_tpr, linestyle='--', color='blue')\n",
    "# title\n",
    "plt.title('ROC curve')\n",
    "# x label\n",
    "plt.xlabel('False Positive Rate')\n",
    "# y label\n",
    "plt.ylabel('True Positive rate')\n",
    "\n",
    "plt.legend(loc='best')\n",
    "plt.savefig('ROC',dpi=300)\n",
    "plt.show();"
   ]
  },
  {
   "cell_type": "markdown",
   "id": "50244f29",
   "metadata": {},
   "source": [
    "# 10.Saving the model"
   ]
  },
  {
   "cell_type": "code",
   "execution_count": 88,
   "id": "44c1cb0c",
   "metadata": {},
   "outputs": [
    {
     "data": {
      "text/plain": [
       "['final model.pkl']"
      ]
     },
     "execution_count": 88,
     "metadata": {},
     "output_type": "execute_result"
    }
   ],
   "source": [
    "import joblib\n",
    "joblib.dump(fianlRFC,\"final model.pkl\")"
   ]
  },
  {
   "cell_type": "code",
   "execution_count": null,
   "id": "0cdcc65d",
   "metadata": {},
   "outputs": [],
   "source": []
  }
 ],
 "metadata": {
  "kernelspec": {
   "display_name": "Python 3",
   "language": "python",
   "name": "python3"
  },
  "language_info": {
   "codemirror_mode": {
    "name": "ipython",
    "version": 3
   },
   "file_extension": ".py",
   "mimetype": "text/x-python",
   "name": "python",
   "nbconvert_exporter": "python",
   "pygments_lexer": "ipython3",
   "version": "3.8.8"
  }
 },
 "nbformat": 4,
 "nbformat_minor": 5
}
